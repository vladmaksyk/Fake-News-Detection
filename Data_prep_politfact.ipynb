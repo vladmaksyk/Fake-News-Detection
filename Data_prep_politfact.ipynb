{
 "cells": [
  {
   "cell_type": "code",
   "execution_count": 1,
   "metadata": {},
   "outputs": [],
   "source": [
    "import json\n",
    "import glob\n",
    "import json_lines\n",
    "import pandas as pd\n",
    "import matplotlib.pyplot as plt\n",
    "import seaborn as sns\n",
    "import numpy as np\n",
    "import re\n",
    "import os\n",
    "import nltk\n",
    "from nltk.corpus import stopwords\n",
    "import string\n",
    "from gensim import utils\n",
    "from gensim.models.doc2vec import LabeledSentence\n",
    "from gensim.models import Doc2Vec\n",
    "from sklearn.naive_bayes import GaussianNB\n",
    "from nltk.tokenize import word_tokenize \n",
    "import warnings\n",
    "warnings.filterwarnings('ignore')\n",
    "\n"
   ]
  },
  {
   "cell_type": "code",
   "execution_count": 2,
   "metadata": {},
   "outputs": [],
   "source": [
    "#Load all jason files\n",
    "PolitifactData = []\n",
    "for f in glob.glob(\"C:/Users/Max/Desktop/PROJECT/DataSets/DataUni/politifact/SeparateJsonFiles/*.json\"):\n",
    "    with open(f, \"rb\") as infile:\n",
    "        PolitifactData.append(json.load(infile))"
   ]
  },
  {
   "cell_type": "code",
   "execution_count": 3,
   "metadata": {},
   "outputs": [],
   "source": [
    "#Converting Json to Pandas Dataframe\n",
    "PolitifactData = pd.DataFrame.from_dict(PolitifactData, orient='columns')"
   ]
  },
  {
   "cell_type": "code",
   "execution_count": 4,
   "metadata": {},
   "outputs": [],
   "source": [
    "#Removing spaces from collum names \n",
    "PolitifactData.columns = [c.replace(' ', '') for c in PolitifactData.columns]"
   ]
  },
  {
   "cell_type": "code",
   "execution_count": 5,
   "metadata": {},
   "outputs": [
    {
     "data": {
      "text/html": [
       "<div>\n",
       "<style scoped>\n",
       "    .dataframe tbody tr th:only-of-type {\n",
       "        vertical-align: middle;\n",
       "    }\n",
       "\n",
       "    .dataframe tbody tr th {\n",
       "        vertical-align: top;\n",
       "    }\n",
       "\n",
       "    .dataframe thead th {\n",
       "        text-align: right;\n",
       "    }\n",
       "</style>\n",
       "<table border=\"1\" class=\"dataframe\">\n",
       "  <thead>\n",
       "    <tr style=\"text-align: right;\">\n",
       "      <th></th>\n",
       "      <th>Credibility</th>\n",
       "      <th>Description</th>\n",
       "      <th>EditedBy</th>\n",
       "      <th>Published</th>\n",
       "      <th>ReferredLinks</th>\n",
       "      <th>ResearchBy</th>\n",
       "      <th>SearchResults</th>\n",
       "      <th>Sources</th>\n",
       "      <th>Speaker</th>\n",
       "      <th>Statement</th>\n",
       "      <th>StatementMetadata</th>\n",
       "      <th>Subjects</th>\n",
       "      <th>URL</th>\n",
       "    </tr>\n",
       "  </thead>\n",
       "  <tbody>\n",
       "    <tr>\n",
       "      <th>0</th>\n",
       "      <td>Half-True</td>\n",
       "      <td>Rudy Giuliani has repeatedly said that he cut ...</td>\n",
       "      <td>Bill Adair</td>\n",
       "      <td>Tuesday, October 9th, 2007 at 12:00 a.m.</td>\n",
       "      <td></td>\n",
       "      <td>Angie Drobnic Holan</td>\n",
       "      <td>[{'url': 'http://www.nytimes.com/2007/01/17/ny...</td>\n",
       "      <td>[{'Source Description': '\"Rudy defends tax cut...</td>\n",
       "      <td>Rudy Giuliani</td>\n",
       "      <td>\"I cut taxes 23 times when I was mayor of New ...</td>\n",
       "      <td>Rudy Giuliani on Tuesday, October 9th, 2007 in...</td>\n",
       "      <td>Taxes</td>\n",
       "      <td>www.politifact.com/truth-o-meter/statements/109/</td>\n",
       "    </tr>\n",
       "    <tr>\n",
       "      <th>1</th>\n",
       "      <td>Half-True</td>\n",
       "      <td>In a TV ad airing in Iowa and New Hampshire, S...</td>\n",
       "      <td>Bill Adair</td>\n",
       "      <td>Monday, October 8th, 2007 at 12:00 a.m.</td>\n",
       "      <td></td>\n",
       "      <td>Angie Drobnic Holan</td>\n",
       "      <td>[{'url': 'http://www.washingtonpost.com/wp-dyn...</td>\n",
       "      <td>[{'Source Description': 'The Associated Press,...</td>\n",
       "      <td>Hillary Clinton</td>\n",
       "      <td>\"Hillary stood up for universal health care wh...</td>\n",
       "      <td>Hillary Clinton on Thursday, October 4th, 2007...</td>\n",
       "      <td>Health Care</td>\n",
       "      <td>www.politifact.com/truth-o-meter/statements/112/</td>\n",
       "    </tr>\n",
       "    <tr>\n",
       "      <th>2</th>\n",
       "      <td>Mostly True</td>\n",
       "      <td>Among the field of Democratic candidates, Sen....</td>\n",
       "      <td>Scott Montgomery</td>\n",
       "      <td>Wednesday, October 17th, 2007 at 12:00 a.m.</td>\n",
       "      <td></td>\n",
       "      <td>Angie Drobnic Holan</td>\n",
       "      <td>[{'url': 'https://www.washingtonpost.com/wp-dy...</td>\n",
       "      <td>[{'Source Description': 'Joe Biden campaign we...</td>\n",
       "      <td>Joe Biden</td>\n",
       "      <td>\"First, he was in favor of my plan, now he's a...</td>\n",
       "      <td>Joe Biden on Friday, October 12th, 2007 in</td>\n",
       "      <td>Iraq</td>\n",
       "      <td>www.politifact.com/truth-o-meter/statements/126/</td>\n",
       "    </tr>\n",
       "    <tr>\n",
       "      <th>3</th>\n",
       "      <td>Mostly True</td>\n",
       "      <td>On ethanol, McCain has maintained a long-stand...</td>\n",
       "      <td>Bill Adair</td>\n",
       "      <td>Thursday, August 23rd, 2007 at 12:00 a.m.</td>\n",
       "      <td></td>\n",
       "      <td>Angie Drobnic Holan</td>\n",
       "      <td>[{'url': 'http://grist.org/article/mccain_fact...</td>\n",
       "      <td>[]</td>\n",
       "      <td>Mitt Romney</td>\n",
       "      <td>\"(McCain) was opposed to ethanol. Now he's for...</td>\n",
       "      <td>Mitt Romney on Thursday, April 26th, 2007 in S...</td>\n",
       "      <td>Energy</td>\n",
       "      <td>www.politifact.com/truth-o-meter/statements/13/</td>\n",
       "    </tr>\n",
       "    <tr>\n",
       "      <th>4</th>\n",
       "      <td>True</td>\n",
       "      <td>Romney is right that McCain switched on the ta...</td>\n",
       "      <td>Bill Duryea</td>\n",
       "      <td>Wednesday, September 5th, 2007 at 12:00 a.m.</td>\n",
       "      <td></td>\n",
       "      <td>Angie Drobnic Holan</td>\n",
       "      <td>[{'url': 'https://www.senate.gov/?congress=107...</td>\n",
       "      <td>[{'Source Description': '', 'Source URL': ''}]</td>\n",
       "      <td>Mitt Romney</td>\n",
       "      <td>\"Senator McCain voted against the Bush tax cut...</td>\n",
       "      <td>Mitt Romney on Thursday, April 26th, 2007 in S...</td>\n",
       "      <td>Taxes</td>\n",
       "      <td>www.politifact.com/truth-o-meter/statements/14/</td>\n",
       "    </tr>\n",
       "  </tbody>\n",
       "</table>\n",
       "</div>"
      ],
      "text/plain": [
       "   Credibility                                        Description  \\\n",
       "0    Half-True  Rudy Giuliani has repeatedly said that he cut ...   \n",
       "1    Half-True  In a TV ad airing in Iowa and New Hampshire, S...   \n",
       "2  Mostly True  Among the field of Democratic candidates, Sen....   \n",
       "3  Mostly True  On ethanol, McCain has maintained a long-stand...   \n",
       "4         True  Romney is right that McCain switched on the ta...   \n",
       "\n",
       "           EditedBy                                     Published  \\\n",
       "0        Bill Adair      Tuesday, October 9th, 2007 at 12:00 a.m.   \n",
       "1        Bill Adair       Monday, October 8th, 2007 at 12:00 a.m.   \n",
       "2  Scott Montgomery   Wednesday, October 17th, 2007 at 12:00 a.m.   \n",
       "3        Bill Adair     Thursday, August 23rd, 2007 at 12:00 a.m.   \n",
       "4       Bill Duryea  Wednesday, September 5th, 2007 at 12:00 a.m.   \n",
       "\n",
       "  ReferredLinks           ResearchBy  \\\n",
       "0                Angie Drobnic Holan   \n",
       "1                Angie Drobnic Holan   \n",
       "2                Angie Drobnic Holan   \n",
       "3                Angie Drobnic Holan   \n",
       "4                Angie Drobnic Holan   \n",
       "\n",
       "                                       SearchResults  \\\n",
       "0  [{'url': 'http://www.nytimes.com/2007/01/17/ny...   \n",
       "1  [{'url': 'http://www.washingtonpost.com/wp-dyn...   \n",
       "2  [{'url': 'https://www.washingtonpost.com/wp-dy...   \n",
       "3  [{'url': 'http://grist.org/article/mccain_fact...   \n",
       "4  [{'url': 'https://www.senate.gov/?congress=107...   \n",
       "\n",
       "                                             Sources          Speaker  \\\n",
       "0  [{'Source Description': '\"Rudy defends tax cut...    Rudy Giuliani   \n",
       "1  [{'Source Description': 'The Associated Press,...  Hillary Clinton   \n",
       "2  [{'Source Description': 'Joe Biden campaign we...        Joe Biden   \n",
       "3                                                 []      Mitt Romney   \n",
       "4     [{'Source Description': '', 'Source URL': ''}]      Mitt Romney   \n",
       "\n",
       "                                           Statement  \\\n",
       "0  \"I cut taxes 23 times when I was mayor of New ...   \n",
       "1  \"Hillary stood up for universal health care wh...   \n",
       "2  \"First, he was in favor of my plan, now he's a...   \n",
       "3  \"(McCain) was opposed to ethanol. Now he's for...   \n",
       "4  \"Senator McCain voted against the Bush tax cut...   \n",
       "\n",
       "                                   StatementMetadata     Subjects  \\\n",
       "0  Rudy Giuliani on Tuesday, October 9th, 2007 in...        Taxes   \n",
       "1  Hillary Clinton on Thursday, October 4th, 2007...  Health Care   \n",
       "2         Joe Biden on Friday, October 12th, 2007 in         Iraq   \n",
       "3  Mitt Romney on Thursday, April 26th, 2007 in S...       Energy   \n",
       "4  Mitt Romney on Thursday, April 26th, 2007 in S...        Taxes   \n",
       "\n",
       "                                                URL  \n",
       "0  www.politifact.com/truth-o-meter/statements/109/  \n",
       "1  www.politifact.com/truth-o-meter/statements/112/  \n",
       "2  www.politifact.com/truth-o-meter/statements/126/  \n",
       "3   www.politifact.com/truth-o-meter/statements/13/  \n",
       "4   www.politifact.com/truth-o-meter/statements/14/  "
      ]
     },
     "execution_count": 5,
     "metadata": {},
     "output_type": "execute_result"
    }
   ],
   "source": [
    "PolitifactData.head()"
   ]
  },
  {
   "cell_type": "code",
   "execution_count": 6,
   "metadata": {},
   "outputs": [],
   "source": [
    "# #Dropping unnecessary colums\n",
    "PolitifactData = PolitifactData.drop(['ReferredLinks'],axis=1)\n",
    "PolitifactData = PolitifactData.drop(['Published'], axis=1)\n",
    "PolitifactData = PolitifactData.drop(['StatementMetadata'], axis=1)\n",
    "PolitifactData = PolitifactData.drop(['URL'], axis=1)\n",
    "PolitifactData = PolitifactData.drop(['EditedBy'], axis=1)\n",
    "PolitifactData = PolitifactData.drop(['ResearchBy'], axis=1)\n",
    "PolitifactData = PolitifactData.drop(['Sources'], axis=1)\n",
    "\n",
    "\n"
   ]
  },
  {
   "cell_type": "code",
   "execution_count": 7,
   "metadata": {},
   "outputs": [],
   "source": [
    "#Delete records with empty list values\n",
    "Features = PolitifactData.keys()\n",
    "for colName in Features:\n",
    "    PolitifactData = PolitifactData[PolitifactData[colName].apply(len) > 0]\n",
    "    PolitifactData[colName].replace(\"\", np.nan, inplace=True) "
   ]
  },
  {
   "cell_type": "code",
   "execution_count": 8,
   "metadata": {},
   "outputs": [
    {
     "data": {
      "text/html": [
       "<div>\n",
       "<style scoped>\n",
       "    .dataframe tbody tr th:only-of-type {\n",
       "        vertical-align: middle;\n",
       "    }\n",
       "\n",
       "    .dataframe tbody tr th {\n",
       "        vertical-align: top;\n",
       "    }\n",
       "\n",
       "    .dataframe thead th {\n",
       "        text-align: right;\n",
       "    }\n",
       "</style>\n",
       "<table border=\"1\" class=\"dataframe\">\n",
       "  <thead>\n",
       "    <tr style=\"text-align: right;\">\n",
       "      <th></th>\n",
       "      <th>Credibility</th>\n",
       "      <th>Description</th>\n",
       "      <th>SearchResults</th>\n",
       "      <th>Speaker</th>\n",
       "      <th>Statement</th>\n",
       "      <th>Subjects</th>\n",
       "    </tr>\n",
       "  </thead>\n",
       "  <tbody>\n",
       "  </tbody>\n",
       "</table>\n",
       "</div>"
      ],
      "text/plain": [
       "Empty DataFrame\n",
       "Columns: [Credibility, Description, SearchResults, Speaker, Statement, Subjects]\n",
       "Index: []"
      ]
     },
     "execution_count": 8,
     "metadata": {},
     "output_type": "execute_result"
    }
   ],
   "source": [
    "#Show which recors have na values\n",
    "PolitifactData[PolitifactData.isnull().any(axis=1)]"
   ]
  },
  {
   "cell_type": "code",
   "execution_count": 9,
   "metadata": {},
   "outputs": [],
   "source": [
    "#Drom na values\n",
    "PolitifactData = PolitifactData.dropna()"
   ]
  },
  {
   "cell_type": "code",
   "execution_count": 10,
   "metadata": {},
   "outputs": [
    {
     "data": {
      "text/html": [
       "<div>\n",
       "<style scoped>\n",
       "    .dataframe tbody tr th:only-of-type {\n",
       "        vertical-align: middle;\n",
       "    }\n",
       "\n",
       "    .dataframe tbody tr th {\n",
       "        vertical-align: top;\n",
       "    }\n",
       "\n",
       "    .dataframe thead th {\n",
       "        text-align: right;\n",
       "    }\n",
       "</style>\n",
       "<table border=\"1\" class=\"dataframe\">\n",
       "  <thead>\n",
       "    <tr style=\"text-align: right;\">\n",
       "      <th></th>\n",
       "      <th>Missing Ratio</th>\n",
       "    </tr>\n",
       "  </thead>\n",
       "  <tbody>\n",
       "  </tbody>\n",
       "</table>\n",
       "</div>"
      ],
      "text/plain": [
       "Empty DataFrame\n",
       "Columns: [Missing Ratio]\n",
       "Index: []"
      ]
     },
     "execution_count": 10,
     "metadata": {},
     "output_type": "execute_result"
    }
   ],
   "source": [
    "# Find Missing Ratio of Dataset\n",
    "all_data_na = (PolitifactData.isnull().sum() / len(PolitifactData)) * 100\n",
    "all_data_na = all_data_na.drop(all_data_na[all_data_na == 0].index).sort_values(ascending=False)[:30]\n",
    "\n",
    "missing_data = pd.DataFrame({'Missing Ratio' :all_data_na})\n",
    "missing_data"
   ]
  },
  {
   "cell_type": "code",
   "execution_count": 11,
   "metadata": {},
   "outputs": [
    {
     "data": {
      "text/html": [
       "<div>\n",
       "<style scoped>\n",
       "    .dataframe tbody tr th:only-of-type {\n",
       "        vertical-align: middle;\n",
       "    }\n",
       "\n",
       "    .dataframe tbody tr th {\n",
       "        vertical-align: top;\n",
       "    }\n",
       "\n",
       "    .dataframe thead th {\n",
       "        text-align: right;\n",
       "    }\n",
       "</style>\n",
       "<table border=\"1\" class=\"dataframe\">\n",
       "  <thead>\n",
       "    <tr style=\"text-align: right;\">\n",
       "      <th></th>\n",
       "      <th>Credibility</th>\n",
       "      <th>Description</th>\n",
       "      <th>SearchResults</th>\n",
       "      <th>Speaker</th>\n",
       "      <th>Statement</th>\n",
       "      <th>Subjects</th>\n",
       "    </tr>\n",
       "  </thead>\n",
       "  <tbody>\n",
       "    <tr>\n",
       "      <th>0</th>\n",
       "      <td>Half-True</td>\n",
       "      <td>Rudy Giuliani has repeatedly said that he cut ...</td>\n",
       "      <td>[{'url': 'http://www.nytimes.com/2007/01/17/ny...</td>\n",
       "      <td>Rudy Giuliani</td>\n",
       "      <td>\"I cut taxes 23 times when I was mayor of New ...</td>\n",
       "      <td>Taxes</td>\n",
       "    </tr>\n",
       "    <tr>\n",
       "      <th>1</th>\n",
       "      <td>Half-True</td>\n",
       "      <td>In a TV ad airing in Iowa and New Hampshire, S...</td>\n",
       "      <td>[{'url': 'http://www.washingtonpost.com/wp-dyn...</td>\n",
       "      <td>Hillary Clinton</td>\n",
       "      <td>\"Hillary stood up for universal health care wh...</td>\n",
       "      <td>Health Care</td>\n",
       "    </tr>\n",
       "    <tr>\n",
       "      <th>2</th>\n",
       "      <td>Mostly True</td>\n",
       "      <td>Among the field of Democratic candidates, Sen....</td>\n",
       "      <td>[{'url': 'https://www.washingtonpost.com/wp-dy...</td>\n",
       "      <td>Joe Biden</td>\n",
       "      <td>\"First, he was in favor of my plan, now he's a...</td>\n",
       "      <td>Iraq</td>\n",
       "    </tr>\n",
       "    <tr>\n",
       "      <th>3</th>\n",
       "      <td>Mostly True</td>\n",
       "      <td>On ethanol, McCain has maintained a long-stand...</td>\n",
       "      <td>[{'url': 'http://grist.org/article/mccain_fact...</td>\n",
       "      <td>Mitt Romney</td>\n",
       "      <td>\"(McCain) was opposed to ethanol. Now he's for...</td>\n",
       "      <td>Energy</td>\n",
       "    </tr>\n",
       "    <tr>\n",
       "      <th>4</th>\n",
       "      <td>True</td>\n",
       "      <td>Romney is right that McCain switched on the ta...</td>\n",
       "      <td>[{'url': 'https://www.senate.gov/?congress=107...</td>\n",
       "      <td>Mitt Romney</td>\n",
       "      <td>\"Senator McCain voted against the Bush tax cut...</td>\n",
       "      <td>Taxes</td>\n",
       "    </tr>\n",
       "  </tbody>\n",
       "</table>\n",
       "</div>"
      ],
      "text/plain": [
       "   Credibility                                        Description  \\\n",
       "0    Half-True  Rudy Giuliani has repeatedly said that he cut ...   \n",
       "1    Half-True  In a TV ad airing in Iowa and New Hampshire, S...   \n",
       "2  Mostly True  Among the field of Democratic candidates, Sen....   \n",
       "3  Mostly True  On ethanol, McCain has maintained a long-stand...   \n",
       "4         True  Romney is right that McCain switched on the ta...   \n",
       "\n",
       "                                       SearchResults          Speaker  \\\n",
       "0  [{'url': 'http://www.nytimes.com/2007/01/17/ny...    Rudy Giuliani   \n",
       "1  [{'url': 'http://www.washingtonpost.com/wp-dyn...  Hillary Clinton   \n",
       "2  [{'url': 'https://www.washingtonpost.com/wp-dy...        Joe Biden   \n",
       "3  [{'url': 'http://grist.org/article/mccain_fact...      Mitt Romney   \n",
       "4  [{'url': 'https://www.senate.gov/?congress=107...      Mitt Romney   \n",
       "\n",
       "                                           Statement     Subjects  \n",
       "0  \"I cut taxes 23 times when I was mayor of New ...        Taxes  \n",
       "1  \"Hillary stood up for universal health care wh...  Health Care  \n",
       "2  \"First, he was in favor of my plan, now he's a...         Iraq  \n",
       "3  \"(McCain) was opposed to ethanol. Now he's for...       Energy  \n",
       "4  \"Senator McCain voted against the Bush tax cut...        Taxes  "
      ]
     },
     "execution_count": 11,
     "metadata": {},
     "output_type": "execute_result"
    }
   ],
   "source": [
    "PolitifactData.head()"
   ]
  },
  {
   "cell_type": "code",
   "execution_count": 12,
   "metadata": {},
   "outputs": [
    {
     "data": {
      "text/plain": [
       "Index(['Credibility', 'Description', 'SearchResults', 'Speaker', 'Statement',\n",
       "       'Subjects'],\n",
       "      dtype='object')"
      ]
     },
     "execution_count": 12,
     "metadata": {},
     "output_type": "execute_result"
    }
   ],
   "source": [
    "#Printing all features\n",
    "PolitifactData.keys()"
   ]
  },
  {
   "cell_type": "code",
   "execution_count": 13,
   "metadata": {},
   "outputs": [
    {
     "data": {
      "text/plain": [
       "<matplotlib.axes._subplots.AxesSubplot at 0x2be36d35b70>"
      ]
     },
     "execution_count": 13,
     "metadata": {},
     "output_type": "execute_result"
    },
    {
     "data": {
      "image/png": "[encoded data removed]",
      "text/plain": [
       "<Figure size 432x288 with 1 Axes>"
      ]
     },
     "metadata": {
      "needs_background": "light"
     },
     "output_type": "display_data"
    }
   ],
   "source": [
    "#Check for null values\n",
    "sns.heatmap(PolitifactData.isnull(),yticklabels=False,cbar=False)"
   ]
  },
  {
   "cell_type": "code",
   "execution_count": 14,
   "metadata": {},
   "outputs": [
    {
     "data": {
      "text/plain": [
       "Credibility      False\n",
       "Description      False\n",
       "SearchResults    False\n",
       "Speaker          False\n",
       "Statement        False\n",
       "Subjects         False\n",
       "dtype: bool"
      ]
     },
     "execution_count": 14,
     "metadata": {},
     "output_type": "execute_result"
    }
   ],
   "source": [
    "PolitifactData.isnull().any()"
   ]
  },
  {
   "cell_type": "code",
   "execution_count": 15,
   "metadata": {},
   "outputs": [
    {
     "data": {
      "text/plain": [
       "array(['Half-True', 'Mostly True', 'True', 'False', 'Pants on Fire!',\n",
       "       'Mostly False', 'Full Flop', 'Half Flip', 'No Flip'], dtype=object)"
      ]
     },
     "execution_count": 15,
     "metadata": {},
     "output_type": "execute_result"
    }
   ],
   "source": [
    "#Checking unique labels\n",
    "UniqueCredibility = pd.Series(PolitifactData[\"Credibility\"], name='A').unique()\n",
    "UniqueCredibility"
   ]
  },
  {
   "cell_type": "code",
   "execution_count": 16,
   "metadata": {},
   "outputs": [
    {
     "data": {
      "text/plain": [
       "<matplotlib.axes._subplots.AxesSubplot at 0x2be36db6908>"
      ]
     },
     "execution_count": 16,
     "metadata": {},
     "output_type": "execute_result"
    },
    {
     "data": {
      "image/png": "[encoded data removed]",
      "text/plain": [
       "<Figure size 432x288 with 1 Axes>"
      ]
     },
     "metadata": {
      "needs_background": "light"
     },
     "output_type": "display_data"
    }
   ],
   "source": [
    "sns.countplot(x='Credibility',data=PolitifactData)"
   ]
  },
  {
   "cell_type": "code",
   "execution_count": 17,
   "metadata": {},
   "outputs": [],
   "source": [
    "#Removing unnesesary labels\n",
    "PolitifactData = PolitifactData[PolitifactData.Credibility != \"Half Flip\"]\n",
    "PolitifactData = PolitifactData[PolitifactData.Credibility != \"No Flip\"]\n",
    "PolitifactData = PolitifactData[PolitifactData.Credibility != \"Full Flop\"]\n"
   ]
  },
  {
   "cell_type": "code",
   "execution_count": 18,
   "metadata": {},
   "outputs": [
    {
     "data": {
      "text/plain": [
       "<matplotlib.axes._subplots.AxesSubplot at 0x2be3758fef0>"
      ]
     },
     "execution_count": 18,
     "metadata": {},
     "output_type": "execute_result"
    },
    {
     "data": {
      "image/png": "[encoded data removed]",
      "text/plain": [
       "<Figure size 432x288 with 1 Axes>"
      ]
     },
     "metadata": {
      "needs_background": "light"
     },
     "output_type": "display_data"
    }
   ],
   "source": [
    "sns.countplot(x='Credibility',data=PolitifactData)"
   ]
  },
  {
   "cell_type": "code",
   "execution_count": 19,
   "metadata": {},
   "outputs": [],
   "source": [
    "def impute_credibility(Cred):    \n",
    "    \n",
    "    if Cred == \"True\":\n",
    "        return \"True\"\n",
    "    \n",
    "    elif Cred == \"Mostly True\":\n",
    "        return \"True\"\n",
    "    \n",
    "    elif Cred == \"Half-True\":\n",
    "        return \"True\"\n",
    "    \n",
    "    elif Cred == \"False\":\n",
    "        return \"False\"\n",
    "    \n",
    "    elif Cred == 'Mostly False':\n",
    "        return \"False\"\n",
    "    \n",
    "    elif Cred == 'Pants on Fire!':\n",
    "        return \"False\"\n",
    "\n"
   ]
  },
  {
   "cell_type": "code",
   "execution_count": 20,
   "metadata": {},
   "outputs": [],
   "source": [
    "#Convert 6 labels to 2\n",
    "PolitifactData['Credibility'] = PolitifactData['Credibility'].apply(impute_credibility)"
   ]
  },
  {
   "cell_type": "code",
   "execution_count": 21,
   "metadata": {},
   "outputs": [
    {
     "data": {
      "text/plain": [
       "<matplotlib.axes._subplots.AxesSubplot at 0x2be35a52e48>"
      ]
     },
     "execution_count": 21,
     "metadata": {},
     "output_type": "execute_result"
    },
    {
     "data": {
      "image/png": "[encoded data removed]",
      "text/plain": [
       "<Figure size 432x288 with 1 Axes>"
      ]
     },
     "metadata": {
      "needs_background": "light"
     },
     "output_type": "display_data"
    }
   ],
   "source": [
    "sns.countplot(x='Credibility',data=PolitifactData)"
   ]
  },
  {
   "cell_type": "code",
   "execution_count": 22,
   "metadata": {},
   "outputs": [
    {
     "name": "stdout",
     "output_type": "stream",
     "text": [
      "<class 'pandas.core.frame.DataFrame'>\n",
      "Int64Index: 4677 entries, 0 to 4756\n",
      "Data columns (total 6 columns):\n",
      "Credibility      4677 non-null object\n",
      "Description      4677 non-null object\n",
      "SearchResults    4677 non-null object\n",
      "Speaker          4677 non-null object\n",
      "Statement        4677 non-null object\n",
      "Subjects         4677 non-null object\n",
      "dtypes: object(6)\n",
      "memory usage: 415.8+ KB\n",
      "None\n"
     ]
    }
   ],
   "source": [
    "print(PolitifactData.info())"
   ]
  },
  {
   "cell_type": "code",
   "execution_count": 23,
   "metadata": {},
   "outputs": [],
   "source": [
    "PolitifactData = PolitifactData.reset_index(drop=True)"
   ]
  },
  {
   "cell_type": "code",
   "execution_count": 24,
   "metadata": {},
   "outputs": [
    {
     "data": {
      "text/html": [
       "<div>\n",
       "<style scoped>\n",
       "    .dataframe tbody tr th:only-of-type {\n",
       "        vertical-align: middle;\n",
       "    }\n",
       "\n",
       "    .dataframe tbody tr th {\n",
       "        vertical-align: top;\n",
       "    }\n",
       "\n",
       "    .dataframe thead th {\n",
       "        text-align: right;\n",
       "    }\n",
       "</style>\n",
       "<table border=\"1\" class=\"dataframe\">\n",
       "  <thead>\n",
       "    <tr style=\"text-align: right;\">\n",
       "      <th></th>\n",
       "      <th>Credibility</th>\n",
       "      <th>Description</th>\n",
       "      <th>SearchResults</th>\n",
       "      <th>Speaker</th>\n",
       "      <th>Statement</th>\n",
       "      <th>Subjects</th>\n",
       "    </tr>\n",
       "  </thead>\n",
       "  <tbody>\n",
       "    <tr>\n",
       "      <th>0</th>\n",
       "      <td>True</td>\n",
       "      <td>Rudy Giuliani has repeatedly said that he cut ...</td>\n",
       "      <td>[{'url': 'http://www.nytimes.com/2007/01/17/ny...</td>\n",
       "      <td>Rudy Giuliani</td>\n",
       "      <td>\"I cut taxes 23 times when I was mayor of New ...</td>\n",
       "      <td>Taxes</td>\n",
       "    </tr>\n",
       "    <tr>\n",
       "      <th>1</th>\n",
       "      <td>True</td>\n",
       "      <td>In a TV ad airing in Iowa and New Hampshire, S...</td>\n",
       "      <td>[{'url': 'http://www.washingtonpost.com/wp-dyn...</td>\n",
       "      <td>Hillary Clinton</td>\n",
       "      <td>\"Hillary stood up for universal health care wh...</td>\n",
       "      <td>Health Care</td>\n",
       "    </tr>\n",
       "    <tr>\n",
       "      <th>2</th>\n",
       "      <td>True</td>\n",
       "      <td>Among the field of Democratic candidates, Sen....</td>\n",
       "      <td>[{'url': 'https://www.washingtonpost.com/wp-dy...</td>\n",
       "      <td>Joe Biden</td>\n",
       "      <td>\"First, he was in favor of my plan, now he's a...</td>\n",
       "      <td>Iraq</td>\n",
       "    </tr>\n",
       "    <tr>\n",
       "      <th>3</th>\n",
       "      <td>True</td>\n",
       "      <td>On ethanol, McCain has maintained a long-stand...</td>\n",
       "      <td>[{'url': 'http://grist.org/article/mccain_fact...</td>\n",
       "      <td>Mitt Romney</td>\n",
       "      <td>\"(McCain) was opposed to ethanol. Now he's for...</td>\n",
       "      <td>Energy</td>\n",
       "    </tr>\n",
       "    <tr>\n",
       "      <th>4</th>\n",
       "      <td>True</td>\n",
       "      <td>Romney is right that McCain switched on the ta...</td>\n",
       "      <td>[{'url': 'https://www.senate.gov/?congress=107...</td>\n",
       "      <td>Mitt Romney</td>\n",
       "      <td>\"Senator McCain voted against the Bush tax cut...</td>\n",
       "      <td>Taxes</td>\n",
       "    </tr>\n",
       "  </tbody>\n",
       "</table>\n",
       "</div>"
      ],
      "text/plain": [
       "  Credibility                                        Description  \\\n",
       "0        True  Rudy Giuliani has repeatedly said that he cut ...   \n",
       "1        True  In a TV ad airing in Iowa and New Hampshire, S...   \n",
       "2        True  Among the field of Democratic candidates, Sen....   \n",
       "3        True  On ethanol, McCain has maintained a long-stand...   \n",
       "4        True  Romney is right that McCain switched on the ta...   \n",
       "\n",
       "                                       SearchResults          Speaker  \\\n",
       "0  [{'url': 'http://www.nytimes.com/2007/01/17/ny...    Rudy Giuliani   \n",
       "1  [{'url': 'http://www.washingtonpost.com/wp-dyn...  Hillary Clinton   \n",
       "2  [{'url': 'https://www.washingtonpost.com/wp-dy...        Joe Biden   \n",
       "3  [{'url': 'http://grist.org/article/mccain_fact...      Mitt Romney   \n",
       "4  [{'url': 'https://www.senate.gov/?congress=107...      Mitt Romney   \n",
       "\n",
       "                                           Statement     Subjects  \n",
       "0  \"I cut taxes 23 times when I was mayor of New ...        Taxes  \n",
       "1  \"Hillary stood up for universal health care wh...  Health Care  \n",
       "2  \"First, he was in favor of my plan, now he's a...         Iraq  \n",
       "3  \"(McCain) was opposed to ethanol. Now he's for...       Energy  \n",
       "4  \"Senator McCain voted against the Bush tax cut...        Taxes  "
      ]
     },
     "execution_count": 24,
     "metadata": {},
     "output_type": "execute_result"
    }
   ],
   "source": [
    "PolitifactData.head()\n"
   ]
  },
  {
   "cell_type": "code",
   "execution_count": 25,
   "metadata": {},
   "outputs": [],
   "source": [
    "#Substitute True with 1 and False with 0\n",
    "PolitifactData[\"Credibility\"].replace(\"True\", 1, inplace=True)\n",
    "PolitifactData[\"Credibility\"].replace(\"False\", 0, inplace=True)\n"
   ]
  },
  {
   "cell_type": "code",
   "execution_count": 26,
   "metadata": {},
   "outputs": [],
   "source": [
    "# for RecordID in range(len(PolitifactData.SearchResults)):\n",
    "#     RecordText = []\n",
    "#     for Doc_Text in range(len(PolitifactData.SearchResults[RecordID])):\n",
    "#         print(Doc_Text)\n",
    "#         for key, value in PolitifactData.SearchResults[RecordID][Doc_Text].items():\n",
    "#                 if key == \"doc_text\":\n",
    "#                     RecordText.append(value)\n",
    "#     PolitifactData.SearchResults[RecordID] = RecordText"
   ]
  },
  {
   "cell_type": "code",
   "execution_count": 27,
   "metadata": {},
   "outputs": [],
   "source": [
    "def Preprocessing1(text):  # for description\n",
    "    text = re.sub(r\"[^A-Za-z0-9^]\", \" \", text)\n",
    "    text = text.lower().split()\n",
    "    stops = set(stopwords.words(\"english\"))\n",
    "    text = [w for w in text if not w in stops]\n",
    "    text = \" \".join(text)\n",
    "    return text"
   ]
  },
  {
   "cell_type": "code",
   "execution_count": 28,
   "metadata": {},
   "outputs": [],
   "source": [
    "def Preprocessing2(text):  # for search result\n",
    "    text = ','.join(str(v) for v in text)\n",
    "    text = re.sub(r\"[^A-Za-z0-9^]\", \" \", text)      \n",
    "    text = text.lower().split()\n",
    "    stops = set(stopwords.words(\"english\"))\n",
    "    text = [w for w in text if not w in stops]\n",
    "    text = \" \".join(text)\n",
    "    return text"
   ]
  },
  {
   "cell_type": "code",
   "execution_count": 29,
   "metadata": {},
   "outputs": [],
   "source": [
    "def Preprocessing(text):\n",
    "    if type(text) is list:\n",
    "        text = ','.join(str(v) for v in text)\n",
    "\n",
    "    cleaned_text = text.lower()\n",
    "    for char in [\"\\n\", \"\\t\", \"\\r\"]:\n",
    "        cleaned_text = cleaned_text.replace(char, \" \")\n",
    "    cleaned_text = cleaned_text.encode(\"ascii\", \"ignore\").decode(\"ascii\")\n",
    "    cleaned_text = re.sub(r\"[^\\w\\s]\", \"\", cleaned_text)\n",
    "    #text = re.sub(r\"[^A-Za-z0-9^$]\", \" \", text)  \n",
    "    tokenized_text = cleaned_text.split()\n",
    "    stops = set(stopwords.words(\"english\"))\n",
    "    stop_text = [w for w in tokenized_text if not w in stops]\n",
    "    text = [w for w in stop_text if len(w)>2]\n",
    "    text = \" \".join(text)\n",
    "    \n",
    "    words = set(nltk.corpus.words.words())\n",
    "    result = \" \".join(w for w in nltk.wordpunct_tokenize(text) if w in words)\n",
    "    \n",
    "    return result"
   ]
  },
  {
   "cell_type": "code",
   "execution_count": 30,
   "metadata": {},
   "outputs": [],
   "source": [
    "for i in range(len(PolitifactData)):\n",
    "    PolitifactData.loc[i, 'SearchResults'] = Preprocessing(PolitifactData.loc[i, 'SearchResults'])\n",
    "    PolitifactData.loc[i, 'Statement'] = Preprocessing(PolitifactData.loc[i, 'Statement'])\n",
    "    PolitifactData.loc[i, 'Description'] = Preprocessing(PolitifactData.loc[i, 'Description'])\n",
    "    "
   ]
  },
  {
   "cell_type": "code",
   "execution_count": 31,
   "metadata": {},
   "outputs": [
    {
     "data": {
      "text/plain": [
       "Credibility      False\n",
       "Description      False\n",
       "SearchResults    False\n",
       "Speaker          False\n",
       "Statement        False\n",
       "Subjects         False\n",
       "dtype: bool"
      ]
     },
     "execution_count": 31,
     "metadata": {},
     "output_type": "execute_result"
    }
   ],
   "source": [
    "PolitifactData.isnull().any()"
   ]
  },
  {
   "cell_type": "code",
   "execution_count": 32,
   "metadata": {},
   "outputs": [
    {
     "data": {
      "text/html": [
       "<div>\n",
       "<style scoped>\n",
       "    .dataframe tbody tr th:only-of-type {\n",
       "        vertical-align: middle;\n",
       "    }\n",
       "\n",
       "    .dataframe tbody tr th {\n",
       "        vertical-align: top;\n",
       "    }\n",
       "\n",
       "    .dataframe thead th {\n",
       "        text-align: right;\n",
       "    }\n",
       "</style>\n",
       "<table border=\"1\" class=\"dataframe\">\n",
       "  <thead>\n",
       "    <tr style=\"text-align: right;\">\n",
       "      <th></th>\n",
       "      <th>Credibility</th>\n",
       "      <th>Description</th>\n",
       "      <th>SearchResults</th>\n",
       "      <th>Speaker</th>\n",
       "      <th>Statement</th>\n",
       "      <th>Subjects</th>\n",
       "    </tr>\n",
       "  </thead>\n",
       "  <tbody>\n",
       "    <tr>\n",
       "      <th>0</th>\n",
       "      <td>1</td>\n",
       "      <td>repeatedly said cut times mayor new york repea...</td>\n",
       "      <td>[{'url': 'http://www.nytimes.com/2007/01/17/ny...</td>\n",
       "      <td>Rudy Giuliani</td>\n",
       "      <td>\"I cut taxes 23 times when I was mayor of New ...</td>\n",
       "      <td>Taxes</td>\n",
       "    </tr>\n",
       "    <tr>\n",
       "      <th>1</th>\n",
       "      <td>1</td>\n",
       "      <td>airing new sen leader health care stood univer...</td>\n",
       "      <td>[{'url': 'http://www.washingtonpost.com/wp-dyn...</td>\n",
       "      <td>Hillary Clinton</td>\n",
       "      <td>\"Hillary stood up for universal health care wh...</td>\n",
       "      <td>Health Care</td>\n",
       "    </tr>\n",
       "    <tr>\n",
       "      <th>2</th>\n",
       "      <td>1</td>\n",
       "      <td>among field democratic sen joe detailed plan e...</td>\n",
       "      <td>[{'url': 'https://www.washingtonpost.com/wp-dy...</td>\n",
       "      <td>Joe Biden</td>\n",
       "      <td>\"First, he was in favor of my plan, now he's a...</td>\n",
       "      <td>Iraq</td>\n",
       "    </tr>\n",
       "    <tr>\n",
       "      <th>3</th>\n",
       "      <td>1</td>\n",
       "      <td>ethanol opposition alternative fuel way ethano...</td>\n",
       "      <td>[{'url': 'http://grist.org/article/mccain_fact...</td>\n",
       "      <td>Mitt Romney</td>\n",
       "      <td>\"(McCain) was opposed to ethanol. Now he's for...</td>\n",
       "      <td>Energy</td>\n",
       "    </tr>\n",
       "    <tr>\n",
       "      <th>4</th>\n",
       "      <td>1</td>\n",
       "      <td>right switched tax first voting time said tax ...</td>\n",
       "      <td>[{'url': 'https://www.senate.gov/?congress=107...</td>\n",
       "      <td>Mitt Romney</td>\n",
       "      <td>\"Senator McCain voted against the Bush tax cut...</td>\n",
       "      <td>Taxes</td>\n",
       "    </tr>\n",
       "  </tbody>\n",
       "</table>\n",
       "</div>"
      ],
      "text/plain": [
       "   Credibility                                        Description  \\\n",
       "0            1  repeatedly said cut times mayor new york repea...   \n",
       "1            1  airing new sen leader health care stood univer...   \n",
       "2            1  among field democratic sen joe detailed plan e...   \n",
       "3            1  ethanol opposition alternative fuel way ethano...   \n",
       "4            1  right switched tax first voting time said tax ...   \n",
       "\n",
       "                                       SearchResults          Speaker  \\\n",
       "0  [{'url': 'http://www.nytimes.com/2007/01/17/ny...    Rudy Giuliani   \n",
       "1  [{'url': 'http://www.washingtonpost.com/wp-dyn...  Hillary Clinton   \n",
       "2  [{'url': 'https://www.washingtonpost.com/wp-dy...        Joe Biden   \n",
       "3  [{'url': 'http://grist.org/article/mccain_fact...      Mitt Romney   \n",
       "4  [{'url': 'https://www.senate.gov/?congress=107...      Mitt Romney   \n",
       "\n",
       "                                           Statement     Subjects  \n",
       "0  \"I cut taxes 23 times when I was mayor of New ...        Taxes  \n",
       "1  \"Hillary stood up for universal health care wh...  Health Care  \n",
       "2  \"First, he was in favor of my plan, now he's a...         Iraq  \n",
       "3  \"(McCain) was opposed to ethanol. Now he's for...       Energy  \n",
       "4  \"Senator McCain voted against the Bush tax cut...        Taxes  "
      ]
     },
     "execution_count": 32,
     "metadata": {},
     "output_type": "execute_result"
    }
   ],
   "source": [
    "PolitifactData.head()"
   ]
  },
  {
   "cell_type": "code",
   "execution_count": 57,
   "metadata": {},
   "outputs": [],
   "source": [
    "#Create a csv file from the jason files\n",
    "export_csv = PolitifactData.to_csv (r\"C:/Users/Max/Desktop/PROJECT/DataSets/PolitDataPrepFiltered.csv\", index = None, header=True) "
   ]
  },
  {
   "cell_type": "code",
   "execution_count": null,
   "metadata": {},
   "outputs": [],
   "source": []
  }
 ],
 "metadata": {
  "kernelspec": {
   "display_name": "Python 3",
   "language": "python",
   "name": "python3"
  },
  "language_info": {
   "codemirror_mode": {
    "name": "ipython",
    "version": 3
   },
   "file_extension": ".py",
   "mimetype": "text/x-python",
   "name": "python",
   "nbconvert_exporter": "python",
   "pygments_lexer": "ipython3",
   "version": "3.7.3"
  }
 },
 "nbformat": 4,
 "nbformat_minor": 2
}
