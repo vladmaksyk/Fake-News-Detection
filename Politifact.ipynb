{
 "cells": [
  {
   "cell_type": "code",
   "execution_count": 1,
   "metadata": {},
   "outputs": [
    {
     "name": "stdout",
     "output_type": "stream",
     "text": [
      "Populating the interactive namespace from numpy and matplotlib\n"
     ]
    }
   ],
   "source": [
    "import json\n",
    "import glob\n",
    "import json_lines\n",
    "import pandas as pd\n",
    "import matplotlib.pyplot as plt\n",
    "import seaborn as sns\n",
    "import numpy as np\n",
    "import re\n",
    "from sklearn.svm import LinearSVC\n",
    "import os\n",
    "from nltk.corpus import stopwords\n",
    "import string\n",
    "from gensim import utils\n",
    "from gensim.models.doc2vec import LabeledSentence\n",
    "from gensim.models import Doc2Vec\n",
    "from sklearn.naive_bayes import GaussianNB\n",
    "import warnings\n",
    "import itertools\n",
    "from sklearn.feature_extraction.text import CountVectorizer, TfidfVectorizer, HashingVectorizer\n",
    "from sklearn.model_selection import train_test_split\n",
    "from sklearn.linear_model import PassiveAggressiveClassifier, SGDClassifier\n",
    "from sklearn.naive_bayes import MultinomialNB\n",
    "from sklearn import metrics\n",
    "import matplotlib.pyplot as plt\n",
    "import matplotlib.pyplot as plt\n",
    "\n",
    "from nltk.tokenize import word_tokenize \n",
    "from sklearn.metrics import confusion_matrix\n",
    "\n",
    "warnings.filterwarnings('ignore')\n",
    "%pylab inline\n",
    "\n"
   ]
  },
  {
   "cell_type": "code",
   "execution_count": 2,
   "metadata": {},
   "outputs": [],
   "source": [
    "#Import the csv file\n",
    "PolitifactData = pd.read_csv(\"C:/Users/Max/Desktop/PROJECT/DataSets/PolitDataPrepFiltered.csv\") "
   ]
  },
  {
   "cell_type": "markdown",
   "metadata": {},
   "source": [
    "Now must find useful features to determine fake from real news."
   ]
  },
  {
   "cell_type": "code",
   "execution_count": 3,
   "metadata": {},
   "outputs": [
    {
     "data": {
      "text/html": [
       "<div>\n",
       "<style scoped>\n",
       "    .dataframe tbody tr th:only-of-type {\n",
       "        vertical-align: middle;\n",
       "    }\n",
       "\n",
       "    .dataframe tbody tr th {\n",
       "        vertical-align: top;\n",
       "    }\n",
       "\n",
       "    .dataframe thead th {\n",
       "        text-align: right;\n",
       "    }\n",
       "</style>\n",
       "<table border=\"1\" class=\"dataframe\">\n",
       "  <thead>\n",
       "    <tr style=\"text-align: right;\">\n",
       "      <th></th>\n",
       "      <th>Credibility</th>\n",
       "      <th>Description</th>\n",
       "      <th>SearchResults</th>\n",
       "      <th>Speaker</th>\n",
       "      <th>Statement</th>\n",
       "      <th>Subjects</th>\n",
       "    </tr>\n",
       "  </thead>\n",
       "  <tbody>\n",
       "    <tr>\n",
       "      <th>0</th>\n",
       "      <td>1</td>\n",
       "      <td>repeatedly said cut times mayor new york repea...</td>\n",
       "      <td>[{'url': 'http://www.nytimes.com/2007/01/17/ny...</td>\n",
       "      <td>Rudy Giuliani</td>\n",
       "      <td>\"I cut taxes 23 times when I was mayor of New ...</td>\n",
       "      <td>Taxes</td>\n",
       "    </tr>\n",
       "    <tr>\n",
       "      <th>1</th>\n",
       "      <td>1</td>\n",
       "      <td>airing new sen leader health care stood univer...</td>\n",
       "      <td>[{'url': 'http://www.washingtonpost.com/wp-dyn...</td>\n",
       "      <td>Hillary Clinton</td>\n",
       "      <td>\"Hillary stood up for universal health care wh...</td>\n",
       "      <td>Health Care</td>\n",
       "    </tr>\n",
       "    <tr>\n",
       "      <th>2</th>\n",
       "      <td>1</td>\n",
       "      <td>among field democratic sen joe detailed plan e...</td>\n",
       "      <td>[{'url': 'https://www.washingtonpost.com/wp-dy...</td>\n",
       "      <td>Joe Biden</td>\n",
       "      <td>\"First, he was in favor of my plan, now he's a...</td>\n",
       "      <td>Iraq</td>\n",
       "    </tr>\n",
       "    <tr>\n",
       "      <th>3</th>\n",
       "      <td>1</td>\n",
       "      <td>ethanol opposition alternative fuel way ethano...</td>\n",
       "      <td>[{'url': 'http://grist.org/article/mccain_fact...</td>\n",
       "      <td>Mitt Romney</td>\n",
       "      <td>\"(McCain) was opposed to ethanol. Now he's for...</td>\n",
       "      <td>Energy</td>\n",
       "    </tr>\n",
       "    <tr>\n",
       "      <th>4</th>\n",
       "      <td>1</td>\n",
       "      <td>right switched tax first voting time said tax ...</td>\n",
       "      <td>[{'url': 'https://www.senate.gov/?congress=107...</td>\n",
       "      <td>Mitt Romney</td>\n",
       "      <td>\"Senator McCain voted against the Bush tax cut...</td>\n",
       "      <td>Taxes</td>\n",
       "    </tr>\n",
       "  </tbody>\n",
       "</table>\n",
       "</div>"
      ],
      "text/plain": [
       "   Credibility                                        Description  \\\n",
       "0            1  repeatedly said cut times mayor new york repea...   \n",
       "1            1  airing new sen leader health care stood univer...   \n",
       "2            1  among field democratic sen joe detailed plan e...   \n",
       "3            1  ethanol opposition alternative fuel way ethano...   \n",
       "4            1  right switched tax first voting time said tax ...   \n",
       "\n",
       "                                       SearchResults          Speaker  \\\n",
       "0  [{'url': 'http://www.nytimes.com/2007/01/17/ny...    Rudy Giuliani   \n",
       "1  [{'url': 'http://www.washingtonpost.com/wp-dyn...  Hillary Clinton   \n",
       "2  [{'url': 'https://www.washingtonpost.com/wp-dy...        Joe Biden   \n",
       "3  [{'url': 'http://grist.org/article/mccain_fact...      Mitt Romney   \n",
       "4  [{'url': 'https://www.senate.gov/?congress=107...      Mitt Romney   \n",
       "\n",
       "                                           Statement     Subjects  \n",
       "0  \"I cut taxes 23 times when I was mayor of New ...        Taxes  \n",
       "1  \"Hillary stood up for universal health care wh...  Health Care  \n",
       "2  \"First, he was in favor of my plan, now he's a...         Iraq  \n",
       "3  \"(McCain) was opposed to ethanol. Now he's for...       Energy  \n",
       "4  \"Senator McCain voted against the Bush tax cut...        Taxes  "
      ]
     },
     "execution_count": 3,
     "metadata": {},
     "output_type": "execute_result"
    }
   ],
   "source": [
    "PolitifactData.head()"
   ]
  },
  {
   "cell_type": "markdown",
   "metadata": {},
   "source": [
    "Now im going to drop the labels and create a train and test dataset. I decided to use the Description because it has a short and clear description of the given claim which is based on the articles in the SearchResult. And since im going to use Bag-of-Words and TF-IDF I will hopefully be able to extrackt some destinctive words.\n"
   ]
  },
  {
   "cell_type": "code",
   "execution_count": 4,
   "metadata": {},
   "outputs": [],
   "source": [
    "y = PolitifactData.Credibility"
   ]
  },
  {
   "cell_type": "code",
   "execution_count": 5,
   "metadata": {},
   "outputs": [],
   "source": [
    "PolitifactData = PolitifactData.drop('Credibility', axis=1)"
   ]
  },
  {
   "cell_type": "code",
   "execution_count": 6,
   "metadata": {},
   "outputs": [],
   "source": [
    "X_train, X_test, y_train, y_test = train_test_split(PolitifactData['Description'], y, test_size=0.3, random_state=53)"
   ]
  },
  {
   "cell_type": "markdown",
   "metadata": {},
   "source": [
    "## Building Vectorizer Classifiers\n",
    "\n",
    "We are doing this to see wheather the words and tokens in the article had a segnificant impact in clasifieng an stetement to fake or true.\n",
    "\n",
    "See documentation [`TfidfVectorizer`](http://scikit-learn.org/stable/modules/generated/sklearn.feature_extraction.text.TfidfVectorizer.html) and [`CountVectorizer`](http://scikit-learn.org/stable/modules/generated/sklearn.feature_extraction.text.CountVectorizer.html).\n",
    "Changing the max_df and  min_df of the TF-IDF vectorizer can have an impact on the final result\n",
    "\n",
    "It is also possible to use other vectorizers for text classification like `HashingVectorizer`. `HashingVectorizer` requires less memmory than tdf-idf and count vectorizers and are faster becouse they are sparse and use hashes rather than tokens.\n",
    "[`HashingVectorizer`](http://scikit-learn.org/stable/modules/generated/sklearn.feature_extraction.text.HashingVectorizer.html)"
   ]
  },
  {
   "cell_type": "code",
   "execution_count": 7,
   "metadata": {},
   "outputs": [],
   "source": [
    "count_vectorizer = CountVectorizer(stop_words='english')\n",
    "count_train = count_vectorizer.fit_transform(X_train)\n",
    "count_test = count_vectorizer.transform(X_test)"
   ]
  },
  {
   "cell_type": "code",
   "execution_count": 8,
   "metadata": {},
   "outputs": [],
   "source": [
    "tfidf_vectorizer = TfidfVectorizer(stop_words='english', max_df=0.7)\n",
    "tfidf_train = tfidf_vectorizer.fit_transform(X_train)\n",
    "tfidf_test = tfidf_vectorizer.transform(X_test)"
   ]
  },
  {
   "cell_type": "code",
   "execution_count": 9,
   "metadata": {},
   "outputs": [],
   "source": [
    "hash_vectorizer = HashingVectorizer(stop_words='english', non_negative=True)\n",
    "hash_train = hash_vectorizer.fit_transform(X_train)\n",
    "hash_test = hash_vectorizer.transform(X_test)"
   ]
  },
  {
   "cell_type": "markdown",
   "metadata": {},
   "source": [
    "There is clearly a lot of noise in the vecors, this can be removed with some more enhanced text preprocessing"
   ]
  },
  {
   "cell_type": "code",
   "execution_count": 10,
   "metadata": {},
   "outputs": [
    {
     "data": {
      "text/plain": [
       "['aam',\n",
       " 'aba',\n",
       " 'aback',\n",
       " 'abandon',\n",
       " 'abandoned',\n",
       " 'abandonment',\n",
       " 'abas',\n",
       " 'abbas',\n",
       " 'abbey',\n",
       " 'abbreviate']"
      ]
     },
     "execution_count": 10,
     "metadata": {},
     "output_type": "execute_result"
    }
   ],
   "source": [
    "tfidf_vectorizer.get_feature_names()[:10]"
   ]
  },
  {
   "cell_type": "markdown",
   "metadata": {},
   "source": [
    "## Evaluating Models\n",
    "\n",
    "I used confusion matrices to visualize and compare models. Another method to visualize which I might implement is [ROC Curve](http://scikit-learn.org/stable/auto_examples/model_selection/plot_roc_crossval.html). Check out [scikit-learn metrics module](http://scikit-learn.org/stable/modules/classes.html#sklearn-metrics-metrics) for other ways to evaluete the models."
   ]
  },
  {
   "cell_type": "code",
   "execution_count": 11,
   "metadata": {},
   "outputs": [],
   "source": [
    "def plot_confusion_matrix(cm, classes, normalize=False, title='Confusion matrix', cmap=plt.cm.Blues):\n",
    "\n",
    "    plt.imshow(cm, interpolation='nearest', cmap=cmap)\n",
    "    plt.title(title)\n",
    "    plt.colorbar()\n",
    "    tick_marks = np.arange(len(classes))\n",
    "    plt.xticks(tick_marks, classes, rotation=45)\n",
    "    plt.yticks(tick_marks, classes)\n",
    "\n",
    "    if normalize:\n",
    "        cm = cm.astype('float') / cm.sum(axis=1)[:, np.newaxis]\n",
    "        print(\"Normalized confusion matrix\")\n",
    "    else:\n",
    "        print('Confusion matrix, without normalization')\n",
    "\n",
    "    thresh = cm.max() / 2.\n",
    "    for i, j in itertools.product(range(cm.shape[0]), range(cm.shape[1])):\n",
    "        plt.text(j, i, cm[i, j], horizontalalignment=\"center\", color=\"white\" if cm[i, j] > thresh else \"black\")\n",
    "\n",
    "    plt.tight_layout()\n",
    "    plt.ylabel('True label')\n",
    "    plt.xlabel('Predicted label')"
   ]
  },
  {
   "cell_type": "markdown",
   "metadata": {},
   "source": [
    "# MODELS\n",
    "\n",
    "I will compare the following models :\n",
    "\n",
    "- multinomialNB with counts (`sgd_count_clf`)\n",
    "- multinomialNB with tf-idf (`mn_tfidf_clf`)\n",
    "- passive aggressive with tf-idf (`pa_tfidf_clf`)\n",
    "- linear svc with tf-idf (`svc_tfidf_clf`)\n",
    "- linear sgd with tf-idf (`sgd_tfidf_clf`)"
   ]
  },
  {
   "cell_type": "markdown",
   "metadata": {},
   "source": [
    "### MultinomialNB with TF-IDF\n",
    "\n",
    "In this part I am going to train and test the trained models using sklearn package. And first I will start with `MultinomialNB`. I use it to compare TF-IDF versus bag-of-words. I noticed that `CountVectorizer` performed better in this model. This is becouse multinomial distribution works better with integers. Check out [this](https://onlinecourses.science.psu.edu/stat504/node/40) for an explanation why."
   ]
  },
  {
   "cell_type": "code",
   "execution_count": 12,
   "metadata": {},
   "outputs": [
    {
     "name": "stdout",
     "output_type": "stream",
     "text": [
      "accuracy:   0.631\n",
      "Confusion matrix, without normalization\n"
     ]
    },
    {
     "data": {
      "image/png": "[encoded data removed]",
      "text/plain": [
       "<Figure size 432x288 with 2 Axes>"
      ]
     },
     "metadata": {
      "needs_background": "light"
     },
     "output_type": "display_data"
    }
   ],
   "source": [
    "MNB_tfidf = MultinomialNB() \n",
    "MNB_tfidf.fit(tfidf_train, y_train)\n",
    "pred = MNB_tfidf.predict(tfidf_test)\n",
    "score = metrics.accuracy_score(y_test, pred)\n",
    "print(\"accuracy:   %0.3f\" % score)\n",
    "cm = metrics.confusion_matrix(y_test, pred, labels=[0, 1])\n",
    "plot_confusion_matrix(cm, classes=[0, 1])"
   ]
  },
  {
   "cell_type": "markdown",
   "metadata": {},
   "source": [
    "### TFIDF with tuning alpha value\n",
    "Lets do some parametr tuning on the `alpha` value for a MultinomialNB. I also want to implement [parameter tuning with grid search](http://scikit-learn.org/stable/tutorial/text_analytics/working_with_text_data.html#parameter-tuning-using-grid-search) for a more exhaustive search."
   ]
  },
  {
   "cell_type": "code",
   "execution_count": 13,
   "metadata": {},
   "outputs": [
    {
     "name": "stdout",
     "output_type": "stream",
     "text": [
      "Alpha: 0.00 Score: 0.61396\n",
      "Alpha: 0.10 Score: 0.65385\n",
      "Alpha: 0.20 Score: 0.65100\n",
      "Alpha: 0.30 Score: 0.64744\n",
      "Alpha: 0.40 Score: 0.64672\n",
      "Alpha: 0.50 Score: 0.64672\n",
      "Alpha: 0.60 Score: 0.64387\n",
      "Alpha: 0.70 Score: 0.64245\n",
      "Alpha: 0.80 Score: 0.63604\n",
      "Alpha: 0.90 Score: 0.63319\n"
     ]
    }
   ],
   "source": [
    "MNB_tfidf_alpha = MultinomialNB(alpha=0.1)\n",
    "last_score = 0\n",
    "for alpha in np.arange(0,1,.1):\n",
    "    nb_classifier = MultinomialNB(alpha=alpha)\n",
    "    nb_classifier.fit(tfidf_train, y_train)\n",
    "    pred = nb_classifier.predict(tfidf_test)\n",
    "    score = metrics.accuracy_score(y_test, pred)\n",
    "    if score > last_score:\n",
    "        MNB_tfidf_alpha = nb_classifier\n",
    "    print(\"Alpha: {:.2f} Score: {:.5f}\".format(alpha, score))"
   ]
  },
  {
   "cell_type": "markdown",
   "metadata": {},
   "source": [
    "### MultinomialNB with count"
   ]
  },
  {
   "cell_type": "code",
   "execution_count": 14,
   "metadata": {},
   "outputs": [
    {
     "name": "stdout",
     "output_type": "stream",
     "text": [
      "accuracy:   0.641\n",
      "Confusion matrix, without normalization\n"
     ]
    },
    {
     "data": {
      "image/png": "[encoded data removed]",
      "text/plain": [
       "<Figure size 432x288 with 2 Axes>"
      ]
     },
     "metadata": {
      "needs_background": "light"
     },
     "output_type": "display_data"
    }
   ],
   "source": [
    "MNB_count = MultinomialNB() \n",
    "MNB_count.fit(count_train, y_train)\n",
    "pred = MNB_count.predict(count_test)\n",
    "score = metrics.accuracy_score(y_test, pred)\n",
    "print(\"accuracy:   %0.3f\" % score)\n",
    "cm = metrics.confusion_matrix(y_test, pred, labels=[0, 1])\n",
    "plot_confusion_matrix(cm, classes=[0, 1])"
   ]
  },
  {
   "cell_type": "markdown",
   "metadata": {},
   "source": [
    "### MultinomialNB with Hash"
   ]
  },
  {
   "cell_type": "code",
   "execution_count": 15,
   "metadata": {},
   "outputs": [
    {
     "name": "stdout",
     "output_type": "stream",
     "text": [
      "accuracy:   0.650\n",
      "Confusion matrix, without normalization\n"
     ]
    },
    {
     "data": {
      "image/png": "[encoded data removed]",
      "text/plain": [
       "<Figure size 432x288 with 2 Axes>"
      ]
     },
     "metadata": {
      "needs_background": "light"
     },
     "output_type": "display_data"
    }
   ],
   "source": [
    "MNB_hash = MultinomialNB(alpha=.01)\n",
    "MNB_hash.fit(hash_train, y_train)\n",
    "pred = MNB_hash.predict(hash_test)\n",
    "score = metrics.accuracy_score(y_test, pred)\n",
    "print(\"accuracy:   %0.3f\" % score)\n",
    "cm = metrics.confusion_matrix(y_test, pred, labels=[0, 1])\n",
    "plot_confusion_matrix(cm, classes=[0, 1])"
   ]
  },
  {
   "cell_type": "markdown",
   "metadata": {},
   "source": [
    "## Linear Models"
   ]
  },
  {
   "cell_type": "markdown",
   "metadata": {},
   "source": [
    "Liniar models perform well with TF-IDF vectorizers. Here are some sources [word2vec for classification](http://nadbordrozd.github.io/blog/2016/05/20/text-classification-with-word2vec/), [SVM reference in scikit-learn text analysis](http://scikit-learn.org/stable/tutorial/text_analytics/working_with_text_data.html#evaluation-of-the-performance-on-the-test-set)\n",
    "\n",
    "I also tried to compare Passive Aggressive classifiers to linear SVMs for text classification.   [Lecture]( https://www.youtube.com/watch?v=4LINLfsq1yE&list=PLBv09BD7ez_4XyTO5MnDLV9N-s6kgXQy7) \n"
   ]
  },
  {
   "cell_type": "markdown",
   "metadata": {},
   "source": [
    "### Passive Aggressive clasifier with TF-IDF"
   ]
  },
  {
   "cell_type": "code",
   "execution_count": 16,
   "metadata": {},
   "outputs": [
    {
     "name": "stdout",
     "output_type": "stream",
     "text": [
      "accuracy:   0.683\n",
      "Confusion matrix, without normalization\n"
     ]
    },
    {
     "data": {
      "image/png": "[encoded data removed]",
      "text/plain": [
       "<Figure size 432x288 with 2 Axes>"
      ]
     },
     "metadata": {
      "needs_background": "light"
     },
     "output_type": "display_data"
    }
   ],
   "source": [
    "pa_tfidf = PassiveAggressiveClassifier(n_iter=50)\n",
    "pa_tfidf.fit(tfidf_train, y_train)\n",
    "pred = pa_tfidf.predict(tfidf_test)\n",
    "score = metrics.accuracy_score(y_test, pred)\n",
    "print(\"accuracy:   %0.3f\" % score)\n",
    "cm = metrics.confusion_matrix(y_test, pred, labels=[0, 1])\n",
    "plot_confusion_matrix(cm, classes=[0, 1])"
   ]
  },
  {
   "cell_type": "markdown",
   "metadata": {},
   "source": [
    "### Linear SVC wiht TFIDF"
   ]
  },
  {
   "cell_type": "code",
   "execution_count": 17,
   "metadata": {},
   "outputs": [
    {
     "name": "stdout",
     "output_type": "stream",
     "text": [
      "accuracy:   0.702\n",
      "Confusion matrix, without normalization\n"
     ]
    },
    {
     "data": {
      "image/png": "[encoded data removed]",
      "text/plain": [
       "<Figure size 432x288 with 2 Axes>"
      ]
     },
     "metadata": {
      "needs_background": "light"
     },
     "output_type": "display_data"
    }
   ],
   "source": [
    "svc_tfidf = LinearSVC()\n",
    "svc_tfidf.fit(tfidf_train, y_train)\n",
    "pred = svc_tfidf.predict(tfidf_test)\n",
    "score = metrics.accuracy_score(y_test, pred)\n",
    "print(\"accuracy:   %0.3f\" % score)\n",
    "cm = metrics.confusion_matrix(y_test, pred, labels=[0, 1])\n",
    "plot_confusion_matrix(cm, classes=[0, 1])"
   ]
  },
  {
   "cell_type": "markdown",
   "metadata": {},
   "source": [
    "### Linear SVC with Count"
   ]
  },
  {
   "cell_type": "code",
   "execution_count": 18,
   "metadata": {},
   "outputs": [
    {
     "name": "stdout",
     "output_type": "stream",
     "text": [
      "accuracy:   0.680\n",
      "Confusion matrix, without normalization\n"
     ]
    },
    {
     "data": {
      "image/png": "[encoded data removed]",
      "text/plain": [
       "<Figure size 432x288 with 2 Axes>"
      ]
     },
     "metadata": {
      "needs_background": "light"
     },
     "output_type": "display_data"
    }
   ],
   "source": [
    "svc_count = LinearSVC()\n",
    "svc_count.fit(count_train, y_train)\n",
    "pred = svc_count.predict(count_test)\n",
    "score = metrics.accuracy_score(y_test, pred)\n",
    "print(\"accuracy:   %0.3f\" % score)\n",
    "cm = metrics.confusion_matrix(y_test, pred, labels=[0, 1])\n",
    "plot_confusion_matrix(cm, classes=[0, 1])"
   ]
  },
  {
   "cell_type": "markdown",
   "metadata": {},
   "source": [
    "### Linear SVC with Hash"
   ]
  },
  {
   "cell_type": "code",
   "execution_count": 19,
   "metadata": {},
   "outputs": [
    {
     "name": "stdout",
     "output_type": "stream",
     "text": [
      "accuracy:   0.702\n",
      "Confusion matrix, without normalization\n"
     ]
    },
    {
     "data": {
      "image/png": "[encoded data removed]",
      "text/plain": [
       "<Figure size 360x360 with 2 Axes>"
      ]
     },
     "metadata": {
      "needs_background": "light"
     },
     "output_type": "display_data"
    }
   ],
   "source": [
    "svc_hash = LinearSVC()\n",
    "plt.rcParams[\"figure.figsize\"] = (5,5)\n",
    "svc_hash.fit(hash_train, y_train)\n",
    "pred = svc_hash.predict(hash_test)\n",
    "score = metrics.accuracy_score(y_test, pred)\n",
    "print(\"accuracy:   %0.3f\" % score)\n",
    "cm = metrics.confusion_matrix(y_test, pred, labels=[0, 1])\n",
    "plot_confusion_matrix(cm, classes=[0, 1])"
   ]
  },
  {
   "cell_type": "markdown",
   "metadata": {},
   "source": [
    "### Linear SGD with TD-IDF"
   ]
  },
  {
   "cell_type": "code",
   "execution_count": 20,
   "metadata": {},
   "outputs": [
    {
     "name": "stdout",
     "output_type": "stream",
     "text": [
      "accuracy:   0.690\n",
      "Confusion matrix, without normalization\n"
     ]
    },
    {
     "data": {
      "image/png": "[encoded data removed]",
      "text/plain": [
       "<Figure size 360x360 with 2 Axes>"
      ]
     },
     "metadata": {
      "needs_background": "light"
     },
     "output_type": "display_data"
    }
   ],
   "source": [
    "sgd_tfidf = SGDClassifier()\n",
    "sgd_tfidf.fit(tfidf_train, y_train)\n",
    "pred = sgd_tfidf.predict(tfidf_test)\n",
    "score = metrics.accuracy_score(y_test, pred)\n",
    "print(\"accuracy:   %0.3f\" % score)\n",
    "cm = metrics.confusion_matrix(y_test, pred, labels=[0, 1])\n",
    "plot_confusion_matrix(cm, classes=[0, 1])"
   ]
  },
  {
   "cell_type": "markdown",
   "metadata": {},
   "source": [
    "### ROC Curve"
   ]
  },
  {
   "cell_type": "code",
   "execution_count": 21,
   "metadata": {},
   "outputs": [
    {
     "data": {
      "text/plain": [
       "<matplotlib.legend.Legend at 0x2cfe4ccdda0>"
      ]
     },
     "execution_count": 21,
     "metadata": {},
     "output_type": "execute_result"
    },
    {
     "data": {
      "image/png": "[encoded data removed]",
      "text/plain": [
       "<Figure size 936x504 with 1 Axes>"
      ]
     },
     "metadata": {
      "needs_background": "light"
     },
     "output_type": "display_data"
    }
   ],
   "source": [
    "plt.rcParams[\"figure.figsize\"] = (13,7)\n",
    "plt.figure(0).clf()\n",
    "#save\n",
    "for model, name in [ (MNB_tfidf, '1 multinomial nb tfidf'),\n",
    "                     (MNB_count, '2 multinomial nb count'),\n",
    "                     (pa_tfidf, '3 passive aggressive tfidf'),\n",
    "                     (svc_tfidf, '4 svc tfidf'),\n",
    "                     (svc_count, '5 svc count'),\n",
    "                     (svc_hash, '6 svc hash'),\n",
    "                     (sgd_tfidf, '7 sgd tfidf')]:\n",
    "    if '2' in name:\n",
    "        pred = model.predict_proba(count_test)[:,1]\n",
    "    elif '1' in name:\n",
    "        pred = model.predict_proba(tfidf_test)[:,1]\n",
    "    elif '5' in name:\n",
    "        pred = model.decision_function(count_test)\n",
    "    elif '6' in name:\n",
    "        pred = model.decision_function(hash_test)\n",
    "        \n",
    "    else: \n",
    "        pred = model.decision_function(tfidf_test)\n",
    "    fpr, tpr, thresh = metrics.roc_curve(y_test.values, pred, pos_label=1)\n",
    "    plt.plot(fpr,tpr,label=\"{}\".format(name))\n",
    "\n",
    "plt.legend(loc=0)"
   ]
  },
  {
   "cell_type": "markdown",
   "metadata": {},
   "source": [
    "### Introspecting models"
   ]
  },
  {
   "cell_type": "markdown",
   "metadata": {},
   "source": [
    "Using a function from [this](https://stackoverflow.com/a/26980472)  writ-up im am going to inspect which vectors affect the labels the most. \n",
    "\n",
    "I am going to inspect the top 30 vectors for the best performing clasifier `Liniar SVC` with count vector dataset `count_vectorizer`\n",
    "\n"
   ]
  },
  {
   "cell_type": "code",
   "execution_count": 22,
   "metadata": {},
   "outputs": [],
   "source": [
    "def most_informative_feature_for_binary_classification(vectorizer, classifier, n=100):\n",
    "    class_labels = classifier.classes_\n",
    "    feature_names = vectorizer.get_feature_names()\n",
    "    topn_class1 = sorted(zip(classifier.coef_[0], feature_names))[:n]\n",
    "    topn_class2 = sorted(zip(classifier.coef_[0], feature_names))[-n:]\n",
    "\n",
    "    return {class_labels[0]: topn_class1,class_labels[1]: topn_class2}"
   ]
  },
  {
   "cell_type": "markdown",
   "metadata": {},
   "source": [
    "Here I want to demonstrate the most significant features learned by a clasifier"
   ]
  },
  {
   "cell_type": "code",
   "execution_count": 23,
   "metadata": {},
   "outputs": [
    {
     "data": {
      "text/plain": [
       "{0: [(-0.3853718828897751, 'inaccurate'),\n",
       "  (-0.3704535338832109, 'element'),\n",
       "  (-0.3007670450377021, 'beginning'),\n",
       "  (-0.2728953844002744, 'fallen'),\n",
       "  (-0.2653994114280545, 'possibility'),\n",
       "  (-0.26465167515123905, 'panel'),\n",
       "  (-0.261201107302451, 'truth'),\n",
       "  (-0.2609856925309152, 'chain')],\n",
       " 1: [(0.24869263232444774, 'region'),\n",
       "  (0.2496276074740724, 'reasonable'),\n",
       "  (0.2507623535811303, 'caveat'),\n",
       "  (0.25504804852544316, 'finance'),\n",
       "  (0.2618912649720161, 'unemployed'),\n",
       "  (0.2878525384971026, 'context'),\n",
       "  (0.31772358605008194, 'careful'),\n",
       "  (0.38701360181659444, 'balance')]}"
      ]
     },
     "execution_count": 23,
     "metadata": {},
     "output_type": "execute_result"
    }
   ],
   "source": [
    "most_informative_feature_for_binary_classification(count_vectorizer, svc_count, n=8)"
   ]
  },
  {
   "cell_type": "markdown",
   "metadata": {},
   "source": [
    "test"
   ]
  },
  {
   "cell_type": "code",
   "execution_count": null,
   "metadata": {},
   "outputs": [],
   "source": [
    "def BagOfWords(data):\n",
    "    sentences = []\n",
    "    for index, row in data.iteritems():\n",
    "        sentences.append(LabeledSentence(utils.to_unicode(row).split(), ['Text' + '_%s' % str(index)]))\n",
    "    return sentences"
   ]
  },
  {
   "cell_type": "code",
   "execution_count": null,
   "metadata": {},
   "outputs": [],
   "source": [
    "#Creating lists of words\n",
    "x = BagOfWords(PolitifactData['Description'])\n",
    "y = PolitifactData.Credibility"
   ]
  },
  {
   "cell_type": "code",
   "execution_count": null,
   "metadata": {},
   "outputs": [],
   "source": [
    "vector_dimension = 300"
   ]
  },
  {
   "cell_type": "code",
   "execution_count": null,
   "metadata": {},
   "outputs": [],
   "source": [
    "text_model = Doc2Vec(min_count=1, window=5, vector_size = vector_dimension, sample=1e-4, negative=5, workers=7, epochs=10, seed=1)\n",
    "text_model.build_vocab(x)\n",
    "text_model.train(x, total_examples = text_model.corpus_count, epochs=text_model.iter)"
   ]
  },
  {
   "cell_type": "code",
   "execution_count": null,
   "metadata": {},
   "outputs": [],
   "source": [
    "train_size = int(0.8 * len(x))\n",
    "test_size = len(x) - train_size"
   ]
  },
  {
   "cell_type": "code",
   "execution_count": null,
   "metadata": {},
   "outputs": [],
   "source": [
    "text_train_arrays = np.zeros((train_size, vector_dimension))\n",
    "text_test_arrays = np.zeros((test_size, vector_dimension))\n",
    "train_labels = np.zeros(train_size)\n",
    "test_labels = np.zeros(test_size)"
   ]
  },
  {
   "cell_type": "code",
   "execution_count": null,
   "metadata": {},
   "outputs": [],
   "source": [
    "for i in range(train_size):\n",
    "    text_train_arrays[i] = text_model.docvecs['Text_' + str(i)]\n",
    "    train_labels[i] = y[i]"
   ]
  },
  {
   "cell_type": "code",
   "execution_count": null,
   "metadata": {},
   "outputs": [],
   "source": [
    "j = 0\n",
    "for i in range(train_size:train_size+test_size):\n",
    "    text_test_arrays[j] = text_model.docvecs['Text_' + str(i)]\n",
    "    test_labels[j] = y[i]\n",
    "    j = j + 1"
   ]
  },
  {
   "cell_type": "markdown",
   "metadata": {},
   "source": [
    "Building the model"
   ]
  },
  {
   "cell_type": "code",
   "execution_count": null,
   "metadata": {},
   "outputs": [],
   "source": [
    "np.save('./text_train_arrays', text_train_arrays)\n",
    "np.save('./text_test_arrays', text_test_arrays)\n",
    "np.save('./train_labels', train_labels)\n",
    "np.save('./test_labels', test_labels)"
   ]
  },
  {
   "cell_type": "code",
   "execution_count": null,
   "metadata": {},
   "outputs": [],
   "source": [
    "xtr = np.load('./text_train_arrays.npy')\n",
    "xte = np.load('./text_test_arrays.npy')\n",
    "ytr = np.load('./train_labels.npy')\n",
    "yte = np.load('./test_labels.npy')"
   ]
  },
  {
   "cell_type": "code",
   "execution_count": null,
   "metadata": {},
   "outputs": [],
   "source": [
    "# Use the built-in Naive Bayes classifier\n",
    "gnb = GaussianNB()\n",
    "gnb.fit(xtr,ytr)\n",
    "y_pred = gnb.predict(xte)\n",
    "m = yte.shape[0]\n",
    "n = (yte != y_pred).sum()\n",
    "print(\"Accuracy = \" + format((m-n)/m*100, '.2f') + \"%\")   # 72.94%"
   ]
  },
  {
   "cell_type": "code",
   "execution_count": null,
   "metadata": {},
   "outputs": [],
   "source": [
    "# Draw the confusion matrix\n",
    "\n",
    "skplt.plot_confusion_matrix(yte,y_pred)\n",
    "plt.show()"
   ]
  }
 ],
 "metadata": {
  "kernelspec": {
   "display_name": "Python 3",
   "language": "python",
   "name": "python3"
  },
  "language_info": {
   "codemirror_mode": {
    "name": "ipython",
    "version": 3
   },
   "file_extension": ".py",
   "mimetype": "text/x-python",
   "name": "python",
   "nbconvert_exporter": "python",
   "pygments_lexer": "ipython3",
   "version": "3.7.3"
  }
 },
 "nbformat": 4,
 "nbformat_minor": 2
}
