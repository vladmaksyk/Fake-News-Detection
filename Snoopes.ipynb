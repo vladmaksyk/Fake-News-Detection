{
 "cells": [
  {
   "cell_type": "code",
   "execution_count": 1,
   "metadata": {},
   "outputs": [
    {
     "name": "stdout",
     "output_type": "stream",
     "text": [
      "Populating the interactive namespace from numpy and matplotlib\n"
     ]
    }
   ],
   "source": [
    "import json\n",
    "import glob\n",
    "import json_lines\n",
    "import pandas as pd\n",
    "import matplotlib.pyplot as plt\n",
    "import seaborn as sns\n",
    "import numpy as np\n",
    "import re\n",
    "from sklearn.svm import LinearSVC\n",
    "import os\n",
    "from nltk.corpus import stopwords\n",
    "import string\n",
    "from gensim import utils\n",
    "from gensim.models.doc2vec import LabeledSentence\n",
    "from gensim.models import Doc2Vec\n",
    "from sklearn.naive_bayes import GaussianNB\n",
    "import warnings\n",
    "import itertools\n",
    "from sklearn.feature_extraction.text import CountVectorizer, TfidfVectorizer, HashingVectorizer\n",
    "from sklearn.model_selection import train_test_split\n",
    "from sklearn.linear_model import PassiveAggressiveClassifier, SGDClassifier\n",
    "from sklearn.naive_bayes import MultinomialNB\n",
    "from sklearn import metrics\n",
    "import matplotlib.pyplot as plt\n",
    "import matplotlib.pyplot as plt\n",
    "import nltk\n",
    "\n",
    "from nltk.tokenize import word_tokenize \n",
    "from sklearn.metrics import confusion_matrix\n",
    "\n",
    "warnings.filterwarnings('ignore')\n",
    "%pylab inline\n",
    "\n"
   ]
  },
  {
   "cell_type": "code",
   "execution_count": 2,
   "metadata": {},
   "outputs": [],
   "source": [
    "#Import the csv file\n",
    "PolitifactData = pd.read_csv(\"C:/Users/Max/Desktop/PROJECT/DataSets/SnopesDataPrepMini.csv\") "
   ]
  },
  {
   "cell_type": "markdown",
   "metadata": {},
   "source": [
    "Now must find useful features to determine fake from real news."
   ]
  },
  {
   "cell_type": "code",
   "execution_count": 3,
   "metadata": {},
   "outputs": [
    {
     "data": {
      "text/html": [
       "<div>\n",
       "<style scoped>\n",
       "    .dataframe tbody tr th:only-of-type {\n",
       "        vertical-align: middle;\n",
       "    }\n",
       "\n",
       "    .dataframe tbody tr th {\n",
       "        vertical-align: top;\n",
       "    }\n",
       "\n",
       "    .dataframe thead th {\n",
       "        text-align: right;\n",
       "    }\n",
       "</style>\n",
       "<table border=\"1\" class=\"dataframe\">\n",
       "  <thead>\n",
       "    <tr style=\"text-align: right;\">\n",
       "      <th></th>\n",
       "      <th>Claim</th>\n",
       "      <th>Credibility</th>\n",
       "      <th>Description</th>\n",
       "      <th>GoogleResults</th>\n",
       "    </tr>\n",
       "  </thead>\n",
       "  <tbody>\n",
       "    <tr>\n",
       "      <th>0</th>\n",
       "      <td>Meijer is offering $100 off \"Back to School\" c...</td>\n",
       "      <td>0</td>\n",
       "      <td>feature slight typically redirect survey provi...</td>\n",
       "      <td>content walker coupon good retailer coupon fra...</td>\n",
       "    </tr>\n",
       "    <tr>\n",
       "      <th>1</th>\n",
       "      <td>A photograph depicts a real (giant) pizza, par...</td>\n",
       "      <td>1</td>\n",
       "      <td>however linked image led coming soon message i...</td>\n",
       "      <td>content claim photograph real giant pizza part...</td>\n",
       "    </tr>\n",
       "    <tr>\n",
       "      <th>2</th>\n",
       "      <td>Image depicts a 102 lb. shrimp caught near Hom...</td>\n",
       "      <td>0</td>\n",
       "      <td>image man proudly posing giant prawn shrimp le...</td>\n",
       "      <td>content claim image shrimp caught near collect...</td>\n",
       "    </tr>\n",
       "    <tr>\n",
       "      <th>3</th>\n",
       "      <td>A 14-year-old girl became pregnant after recei...</td>\n",
       "      <td>0</td>\n",
       "      <td>typical pregnant woman first time young woman ...</td>\n",
       "      <td>content san old schoolgirl serious flu shot al...</td>\n",
       "    </tr>\n",
       "    <tr>\n",
       "      <th>4</th>\n",
       "      <td>NASA confirmed there will be 15 straight days ...</td>\n",
       "      <td>0</td>\n",
       "      <td>world remain complete darkness starting end ac...</td>\n",
       "      <td>domain link kan title domain link video spilt ...</td>\n",
       "    </tr>\n",
       "  </tbody>\n",
       "</table>\n",
       "</div>"
      ],
      "text/plain": [
       "                                               Claim  Credibility  \\\n",
       "0  Meijer is offering $100 off \"Back to School\" c...            0   \n",
       "1  A photograph depicts a real (giant) pizza, par...            1   \n",
       "2  Image depicts a 102 lb. shrimp caught near Hom...            0   \n",
       "3  A 14-year-old girl became pregnant after recei...            0   \n",
       "4  NASA confirmed there will be 15 straight days ...            0   \n",
       "\n",
       "                                         Description  \\\n",
       "0  feature slight typically redirect survey provi...   \n",
       "1  however linked image led coming soon message i...   \n",
       "2  image man proudly posing giant prawn shrimp le...   \n",
       "3  typical pregnant woman first time young woman ...   \n",
       "4  world remain complete darkness starting end ac...   \n",
       "\n",
       "                                       GoogleResults  \n",
       "0  content walker coupon good retailer coupon fra...  \n",
       "1  content claim photograph real giant pizza part...  \n",
       "2  content claim image shrimp caught near collect...  \n",
       "3  content san old schoolgirl serious flu shot al...  \n",
       "4  domain link kan title domain link video spilt ...  "
      ]
     },
     "execution_count": 3,
     "metadata": {},
     "output_type": "execute_result"
    }
   ],
   "source": [
    "PolitifactData.head()"
   ]
  },
  {
   "cell_type": "markdown",
   "metadata": {},
   "source": [
    "Now im going to drop the labels and create a train and test dataset. I decided to use the Description because it has a short and clear description of the given claim which is based on the articles in the SearchResult. And since im going to use Bag-of-Words and TF-IDF I will hopefully be able to extrackt some destinctive words.\n"
   ]
  },
  {
   "cell_type": "code",
   "execution_count": 4,
   "metadata": {},
   "outputs": [],
   "source": [
    "y = PolitifactData.Credibility"
   ]
  },
  {
   "cell_type": "code",
   "execution_count": 5,
   "metadata": {},
   "outputs": [],
   "source": [
    "PolitifactData = PolitifactData.drop('Credibility', axis=1)"
   ]
  },
  {
   "cell_type": "code",
   "execution_count": 6,
   "metadata": {},
   "outputs": [],
   "source": [
    "X_train, X_test, y_train, y_test = train_test_split(PolitifactData['Description'], y, test_size=0.3, random_state=53)"
   ]
  },
  {
   "cell_type": "markdown",
   "metadata": {},
   "source": [
    "## Building Vectorizer Classifiers\n",
    "\n",
    "We are doing this to see wheather the words and tokens in the article had a segnificant impact in clasifieng an stetement to fake or true.\n",
    "\n",
    "See documentation [`TfidfVectorizer`](http://scikit-learn.org/stable/modules/generated/sklearn.feature_extraction.text.TfidfVectorizer.html) and [`CountVectorizer`](http://scikit-learn.org/stable/modules/generated/sklearn.feature_extraction.text.CountVectorizer.html).\n",
    "Changing the max_df and  min_df of the TF-IDF vectorizer can have an impact on the final result\n",
    "\n",
    "It is also possible to use other vectorizers for text classification like `HashingVectorizer`. `HashingVectorizer` requires less memmory than tdf-idf and count vectorizers and are faster becouse they are sparse and use hashes rather than tokens.\n",
    "[`HashingVectorizer`](http://scikit-learn.org/stable/modules/generated/sklearn.feature_extraction.text.HashingVectorizer.html)"
   ]
  },
  {
   "cell_type": "code",
   "execution_count": 7,
   "metadata": {},
   "outputs": [],
   "source": [
    "count_vectorizer = CountVectorizer(stop_words='english')\n",
    "count_train = count_vectorizer.fit_transform(X_train)\n",
    "count_test = count_vectorizer.transform(X_test)"
   ]
  },
  {
   "cell_type": "code",
   "execution_count": 8,
   "metadata": {},
   "outputs": [],
   "source": [
    "tfidf_vectorizer = TfidfVectorizer(stop_words='english', max_df=0.7)\n",
    "tfidf_train = tfidf_vectorizer.fit_transform(X_train)\n",
    "tfidf_test = tfidf_vectorizer.transform(X_test)"
   ]
  },
  {
   "cell_type": "code",
   "execution_count": 9,
   "metadata": {},
   "outputs": [],
   "source": [
    "hash_vectorizer = HashingVectorizer(stop_words='english', non_negative=True)\n",
    "hash_train = hash_vectorizer.fit_transform(X_train)\n",
    "hash_test = hash_vectorizer.transform(X_test)"
   ]
  },
  {
   "cell_type": "markdown",
   "metadata": {},
   "source": [
    "There is clearly a lot of noise in the vecors, this can be removed with some more enhanced text preprocessing"
   ]
  },
  {
   "cell_type": "code",
   "execution_count": 10,
   "metadata": {},
   "outputs": [
    {
     "data": {
      "text/plain": [
       "['aal',\n",
       " 'aam',\n",
       " 'aardvark',\n",
       " 'aba',\n",
       " 'abac',\n",
       " 'aback',\n",
       " 'abandon',\n",
       " 'abandoned',\n",
       " 'abandonment',\n",
       " 'abashedly',\n",
       " 'abatement',\n",
       " 'abattoir',\n",
       " 'abb',\n",
       " 'abbas',\n",
       " 'abbasi',\n",
       " 'abbey',\n",
       " 'abbot',\n",
       " 'abbreviation',\n",
       " 'abdicate',\n",
       " 'abdication',\n",
       " 'abdomen',\n",
       " 'abdominal',\n",
       " 'abduct',\n",
       " 'abduction',\n",
       " 'abductor',\n",
       " 'abeam',\n",
       " 'abed',\n",
       " 'aberrant',\n",
       " 'aberration',\n",
       " 'abet',\n",
       " 'abhorrence',\n",
       " 'abhorrent',\n",
       " 'abide',\n",
       " 'abiding',\n",
       " 'abigail',\n",
       " 'ability',\n",
       " 'abject',\n",
       " 'abjectly',\n",
       " 'ablaze',\n",
       " 'able',\n",
       " 'ablest',\n",
       " 'ably',\n",
       " 'abnormal',\n",
       " 'abnormality',\n",
       " 'abnormally',\n",
       " 'aboard',\n",
       " 'abode',\n",
       " 'abolish',\n",
       " 'abolishment',\n",
       " 'abolition']"
      ]
     },
     "execution_count": 10,
     "metadata": {},
     "output_type": "execute_result"
    }
   ],
   "source": [
    "tfidf_vectorizer.get_feature_names()[:50]"
   ]
  },
  {
   "cell_type": "markdown",
   "metadata": {},
   "source": [
    "## Evaluating Models\n",
    "\n",
    "I used confusion matrices to visualize and compare models. Another method to visualize which I might implement is [ROC Curve](http://scikit-learn.org/stable/auto_examples/model_selection/plot_roc_crossval.html). Check out [scikit-learn metrics module](http://scikit-learn.org/stable/modules/classes.html#sklearn-metrics-metrics) for other ways to evaluete the models."
   ]
  },
  {
   "cell_type": "code",
   "execution_count": 11,
   "metadata": {},
   "outputs": [],
   "source": [
    "def plot_confusion_matrix(cm, classes, normalize=False, title='Confusion matrix', cmap=plt.cm.Blues):\n",
    "\n",
    "    plt.imshow(cm, interpolation='nearest', cmap=cmap)\n",
    "    plt.title(title)\n",
    "    plt.colorbar()\n",
    "    tick_marks = np.arange(len(classes))\n",
    "    plt.xticks(tick_marks, classes, rotation=45)\n",
    "    plt.yticks(tick_marks, classes)\n",
    "\n",
    "    if normalize:\n",
    "        cm = cm.astype('float') / cm.sum(axis=1)[:, np.newaxis]\n",
    "        print(\"Normalized confusion matrix\")\n",
    "    else:\n",
    "        print('Confusion matrix, without normalization')\n",
    "\n",
    "    thresh = cm.max() / 2.\n",
    "    for i, j in itertools.product(range(cm.shape[0]), range(cm.shape[1])):\n",
    "        plt.text(j, i, cm[i, j], horizontalalignment=\"center\", color=\"white\" if cm[i, j] > thresh else \"black\")\n",
    "\n",
    "    plt.tight_layout()\n",
    "    plt.ylabel('True label')\n",
    "    plt.xlabel('Predicted label')"
   ]
  },
  {
   "cell_type": "markdown",
   "metadata": {},
   "source": [
    "# MODELS\n",
    "\n",
    "I will compare the following models :\n",
    "\n",
    "- multinomialNB with counts (`sgd_count_clf`)\n",
    "- multinomialNB with tf-idf (`mn_tfidf_clf`)\n",
    "- passive aggressive with tf-idf (`pa_tfidf_clf`)\n",
    "- linear svc with tf-idf (`svc_tfidf_clf`)\n",
    "- linear sgd with tf-idf (`sgd_tfidf_clf`)"
   ]
  },
  {
   "cell_type": "markdown",
   "metadata": {},
   "source": [
    "### MultinomialNB with TF-IDF\n",
    "\n",
    "In this part I am going to train and test the trained models using sklearn package. And first I will start with `MultinomialNB`. I use it to compare TF-IDF versus bag-of-words. I noticed that `CountVectorizer` performed better in this model. This is becouse multinomial distribution works better with integers. Check out [this](https://onlinecourses.science.psu.edu/stat504/node/40) for an explanation why."
   ]
  },
  {
   "cell_type": "code",
   "execution_count": 12,
   "metadata": {},
   "outputs": [
    {
     "name": "stdout",
     "output_type": "stream",
     "text": [
      "accuracy:   0.740\n",
      "Confusion matrix, without normalization\n"
     ]
    },
    {
     "data": {
      "image/png": "[encoded data removed]",
      "text/plain": [
       "<Figure size 432x288 with 2 Axes>"
      ]
     },
     "metadata": {
      "needs_background": "light"
     },
     "output_type": "display_data"
    }
   ],
   "source": [
    "MNB_tfidf = MultinomialNB() \n",
    "MNB_tfidf.fit(tfidf_train, y_train)\n",
    "pred = MNB_tfidf.predict(tfidf_test)\n",
    "score = metrics.accuracy_score(y_test, pred)\n",
    "print(\"accuracy:   %0.3f\" % score)\n",
    "cm = metrics.confusion_matrix(y_test, pred, labels=[0, 1])\n",
    "plot_confusion_matrix(cm, classes=[0, 1])"
   ]
  },
  {
   "cell_type": "markdown",
   "metadata": {},
   "source": [
    "### TFIDF with tuning alpha value\n",
    "Lets do some parametr tuning on the `alpha` value for a MultinomialNB. I also want to implement [parameter tuning with grid search](http://scikit-learn.org/stable/tutorial/text_analytics/working_with_text_data.html#parameter-tuning-using-grid-search) for a more exhaustive search."
   ]
  },
  {
   "cell_type": "code",
   "execution_count": 13,
   "metadata": {},
   "outputs": [
    {
     "name": "stdout",
     "output_type": "stream",
     "text": [
      "Alpha: 0.00 Score: 0.74255\n",
      "Alpha: 0.10 Score: 0.75993\n",
      "Alpha: 0.20 Score: 0.75331\n",
      "Alpha: 0.30 Score: 0.74338\n",
      "Alpha: 0.40 Score: 0.74089\n",
      "Alpha: 0.50 Score: 0.74089\n",
      "Alpha: 0.60 Score: 0.74089\n",
      "Alpha: 0.70 Score: 0.74007\n",
      "Alpha: 0.80 Score: 0.74007\n",
      "Alpha: 0.90 Score: 0.74007\n"
     ]
    }
   ],
   "source": [
    "MNB_tfidf_alpha = MultinomialNB(alpha=0.1)\n",
    "last_score = 0\n",
    "for alpha in np.arange(0,1,.1):\n",
    "    nb_classifier = MultinomialNB(alpha=alpha)\n",
    "    nb_classifier.fit(tfidf_train, y_train)\n",
    "    pred = nb_classifier.predict(tfidf_test)\n",
    "    score = metrics.accuracy_score(y_test, pred)\n",
    "    if score > last_score:\n",
    "        MNB_tfidf_alpha = nb_classifier\n",
    "    print(\"Alpha: {:.2f} Score: {:.5f}\".format(alpha, score))"
   ]
  },
  {
   "cell_type": "markdown",
   "metadata": {},
   "source": [
    "### MultinomialNB with TF-IDF"
   ]
  },
  {
   "cell_type": "code",
   "execution_count": 14,
   "metadata": {},
   "outputs": [
    {
     "name": "stdout",
     "output_type": "stream",
     "text": [
      "accuracy:   0.760\n",
      "Confusion matrix, without normalization\n"
     ]
    },
    {
     "data": {
      "image/png": "[encoded data removed]",
      "text/plain": [
       "<Figure size 432x288 with 2 Axes>"
      ]
     },
     "metadata": {
      "needs_background": "light"
     },
     "output_type": "display_data"
    }
   ],
   "source": [
    "MNB_count = MultinomialNB() \n",
    "MNB_count.fit(count_train, y_train)\n",
    "pred = MNB_count.predict(count_test)\n",
    "score = metrics.accuracy_score(y_test, pred)\n",
    "print(\"accuracy:   %0.3f\" % score)\n",
    "cm = metrics.confusion_matrix(y_test, pred, labels=[0, 1])\n",
    "plot_confusion_matrix(cm, classes=[0, 1])"
   ]
  },
  {
   "cell_type": "markdown",
   "metadata": {},
   "source": [
    "### MultinomialNB with Hash"
   ]
  },
  {
   "cell_type": "code",
   "execution_count": 15,
   "metadata": {},
   "outputs": [
    {
     "name": "stdout",
     "output_type": "stream",
     "text": [
      "accuracy:   0.743\n",
      "Confusion matrix, without normalization\n"
     ]
    },
    {
     "data": {
      "image/png": "[encoded data removed]",
      "text/plain": [
       "<Figure size 432x288 with 2 Axes>"
      ]
     },
     "metadata": {
      "needs_background": "light"
     },
     "output_type": "display_data"
    }
   ],
   "source": [
    "MNB_hash = MultinomialNB(alpha=.01)\n",
    "MNB_hash.fit(hash_train, y_train)\n",
    "pred = MNB_hash.predict(hash_test)\n",
    "score = metrics.accuracy_score(y_test, pred)\n",
    "print(\"accuracy:   %0.3f\" % score)\n",
    "cm = metrics.confusion_matrix(y_test, pred, labels=[0, 1])\n",
    "plot_confusion_matrix(cm, classes=[0, 1])"
   ]
  },
  {
   "cell_type": "markdown",
   "metadata": {},
   "source": [
    "## Linear Models"
   ]
  },
  {
   "cell_type": "markdown",
   "metadata": {},
   "source": [
    "Liniar models perform well with TF-IDF vectorizers. Here are some sources [word2vec for classification](http://nadbordrozd.github.io/blog/2016/05/20/text-classification-with-word2vec/), [SVM reference in scikit-learn text analysis](http://scikit-learn.org/stable/tutorial/text_analytics/working_with_text_data.html#evaluation-of-the-performance-on-the-test-set)\n",
    "\n",
    "I also tried to compare Passive Aggressive classifiers to linear SVMs for text classification.   [Lecture]( https://www.youtube.com/watch?v=4LINLfsq1yE&list=PLBv09BD7ez_4XyTO5MnDLV9N-s6kgXQy7) \n"
   ]
  },
  {
   "cell_type": "markdown",
   "metadata": {},
   "source": [
    "### Passive Aggressive clasifier with TF-IDF"
   ]
  },
  {
   "cell_type": "code",
   "execution_count": 16,
   "metadata": {},
   "outputs": [
    {
     "name": "stdout",
     "output_type": "stream",
     "text": [
      "accuracy:   0.793\n",
      "Confusion matrix, without normalization\n"
     ]
    },
    {
     "data": {
      "image/png": "[encoded data removed]",
      "text/plain": [
       "<Figure size 432x288 with 2 Axes>"
      ]
     },
     "metadata": {
      "needs_background": "light"
     },
     "output_type": "display_data"
    }
   ],
   "source": [
    "pa_tfidf = PassiveAggressiveClassifier(n_iter=50)\n",
    "pa_tfidf.fit(tfidf_train, y_train)\n",
    "pred = pa_tfidf.predict(tfidf_test)\n",
    "score = metrics.accuracy_score(y_test, pred)\n",
    "print(\"accuracy:   %0.3f\" % score)\n",
    "cm = metrics.confusion_matrix(y_test, pred, labels=[0, 1])\n",
    "plot_confusion_matrix(cm, classes=[0, 1])"
   ]
  },
  {
   "cell_type": "markdown",
   "metadata": {},
   "source": [
    "### Linear SVC wiht TFIDF"
   ]
  },
  {
   "cell_type": "code",
   "execution_count": 17,
   "metadata": {},
   "outputs": [
    {
     "name": "stdout",
     "output_type": "stream",
     "text": [
      "accuracy:   0.796\n",
      "Confusion matrix, without normalization\n"
     ]
    },
    {
     "data": {
      "image/png": "[encoded data removed]",
      "text/plain": [
       "<Figure size 432x288 with 2 Axes>"
      ]
     },
     "metadata": {
      "needs_background": "light"
     },
     "output_type": "display_data"
    }
   ],
   "source": [
    "svc_tfidf = LinearSVC()\n",
    "svc_tfidf.fit(tfidf_train, y_train)\n",
    "pred = svc_tfidf.predict(tfidf_test)\n",
    "score = metrics.accuracy_score(y_test, pred)\n",
    "print(\"accuracy:   %0.3f\" % score)\n",
    "cm = metrics.confusion_matrix(y_test, pred, labels=[0, 1])\n",
    "plot_confusion_matrix(cm, classes=[0, 1])"
   ]
  },
  {
   "cell_type": "markdown",
   "metadata": {},
   "source": [
    "### Linear SVC with Count"
   ]
  },
  {
   "cell_type": "code",
   "execution_count": 18,
   "metadata": {},
   "outputs": [
    {
     "name": "stdout",
     "output_type": "stream",
     "text": [
      "accuracy:   0.768\n",
      "Confusion matrix, without normalization\n"
     ]
    },
    {
     "data": {
      "image/png": "[encoded data removed]",
      "text/plain": [
       "<Figure size 432x288 with 2 Axes>"
      ]
     },
     "metadata": {
      "needs_background": "light"
     },
     "output_type": "display_data"
    }
   ],
   "source": [
    "svc_count = LinearSVC()\n",
    "svc_count.fit(count_train, y_train)\n",
    "pred = svc_count.predict(count_test)\n",
    "score = metrics.accuracy_score(y_test, pred)\n",
    "print(\"accuracy:   %0.3f\" % score)\n",
    "cm = metrics.confusion_matrix(y_test, pred, labels=[0, 1])\n",
    "plot_confusion_matrix(cm, classes=[0, 1])"
   ]
  },
  {
   "cell_type": "markdown",
   "metadata": {},
   "source": [
    "### Linear SVC with Hash"
   ]
  },
  {
   "cell_type": "code",
   "execution_count": 19,
   "metadata": {},
   "outputs": [
    {
     "name": "stdout",
     "output_type": "stream",
     "text": [
      "accuracy:   0.799\n",
      "Confusion matrix, without normalization\n"
     ]
    },
    {
     "data": {
      "image/png": "[encoded data removed]",
      "text/plain": [
       "<Figure size 360x360 with 2 Axes>"
      ]
     },
     "metadata": {
      "needs_background": "light"
     },
     "output_type": "display_data"
    }
   ],
   "source": [
    "svc_hash = LinearSVC()\n",
    "plt.rcParams[\"figure.figsize\"] = (5,5)\n",
    "svc_hash.fit(hash_train, y_train)\n",
    "pred = svc_hash.predict(hash_test)\n",
    "score = metrics.accuracy_score(y_test, pred)\n",
    "print(\"accuracy:   %0.3f\" % score)\n",
    "cm = metrics.confusion_matrix(y_test, pred, labels=[0, 1])\n",
    "plot_confusion_matrix(cm, classes=[0, 1])"
   ]
  },
  {
   "cell_type": "markdown",
   "metadata": {},
   "source": [
    "### Linear SGD with TD-IDF"
   ]
  },
  {
   "cell_type": "code",
   "execution_count": 20,
   "metadata": {},
   "outputs": [
    {
     "name": "stdout",
     "output_type": "stream",
     "text": [
      "accuracy:   0.783\n",
      "Confusion matrix, without normalization\n"
     ]
    },
    {
     "data": {
      "image/png": "[encoded data removed]",
      "text/plain": [
       "<Figure size 360x360 with 2 Axes>"
      ]
     },
     "metadata": {
      "needs_background": "light"
     },
     "output_type": "display_data"
    }
   ],
   "source": [
    "sgd_tfidf = SGDClassifier()\n",
    "sgd_tfidf.fit(tfidf_train, y_train)\n",
    "pred = sgd_tfidf.predict(tfidf_test)\n",
    "score = metrics.accuracy_score(y_test, pred)\n",
    "print(\"accuracy:   %0.3f\" % score)\n",
    "cm = metrics.confusion_matrix(y_test, pred, labels=[0, 1])\n",
    "plot_confusion_matrix(cm, classes=[0, 1])"
   ]
  },
  {
   "cell_type": "markdown",
   "metadata": {},
   "source": [
    "### ROC Curve"
   ]
  },
  {
   "cell_type": "code",
   "execution_count": 21,
   "metadata": {},
   "outputs": [
    {
     "data": {
      "text/plain": [
       "<matplotlib.legend.Legend at 0x189e0ab0438>"
      ]
     },
     "execution_count": 21,
     "metadata": {},
     "output_type": "execute_result"
    },
    {
     "data": {
      "image/png": "[encoded data removed]",
      "text/plain": [
       "<Figure size 936x504 with 1 Axes>"
      ]
     },
     "metadata": {
      "needs_background": "light"
     },
     "output_type": "display_data"
    }
   ],
   "source": [
    "plt.rcParams[\"figure.figsize\"] = (13,7)\n",
    "plt.figure(0).clf()\n",
    "#save\n",
    "for model, name in [ (MNB_tfidf, '1 multinomial nb tfidf'),\n",
    "                     (MNB_count, '2 multinomial nb count'),\n",
    "                     (pa_tfidf, '3 passive aggressive tfidf'),\n",
    "                     (svc_tfidf, '4 svc tfidf'),\n",
    "                     (svc_count, '5 svc count'),\n",
    "                     (svc_hash, '6 svc hash'),\n",
    "                     (sgd_tfidf, '7 sgd tfidf')]:\n",
    "    if '2' in name:\n",
    "        pred = model.predict_proba(count_test)[:,1]\n",
    "    elif '1' in name:\n",
    "        pred = model.predict_proba(tfidf_test)[:,1]\n",
    "    elif '5' in name:\n",
    "        pred = model.decision_function(count_test)\n",
    "    elif '6' in name:\n",
    "        pred = model.decision_function(hash_test)\n",
    "        \n",
    "    else: \n",
    "        pred = model.decision_function(tfidf_test)\n",
    "    fpr, tpr, thresh = metrics.roc_curve(y_test.values, pred, pos_label=1)\n",
    "    plt.plot(fpr,tpr,label=\"{}\".format(name))\n",
    "\n",
    "plt.legend(loc=0)"
   ]
  },
  {
   "cell_type": "markdown",
   "metadata": {},
   "source": [
    "### Introspecting models"
   ]
  },
  {
   "cell_type": "markdown",
   "metadata": {},
   "source": [
    "Using a function from [this](https://stackoverflow.com/a/26980472)  writ-up im am going to inspect which vectors affect the labels the most. \n",
    "\n",
    "I am going to inspect the top 30 vectors for the best performing clasifier `Liniar SVC` with count vector dataset `count_vectorizer`\n",
    "\n"
   ]
  },
  {
   "cell_type": "code",
   "execution_count": 22,
   "metadata": {},
   "outputs": [],
   "source": [
    "def most_informative_feature_for_binary_classification(vectorizer, classifier, n=100):\n",
    "    class_labels = classifier.classes_\n",
    "    feature_names = vectorizer.get_feature_names()\n",
    "    topn_class1 = sorted(zip(classifier.coef_[0], feature_names))[:n]\n",
    "    topn_class2 = sorted(zip(classifier.coef_[0], feature_names))[-n:]\n",
    "\n",
    "    return {class_labels[0]: topn_class1,class_labels[1]: topn_class2}"
   ]
  },
  {
   "cell_type": "markdown",
   "metadata": {},
   "source": [
    "Here I want to demonstrate the most significant features learned by a clasifier"
   ]
  },
  {
   "cell_type": "code",
   "execution_count": 23,
   "metadata": {},
   "outputs": [
    {
     "data": {
      "text/plain": [
       "{0: [(-0.6405895755507257, 'mint'),\n",
       "  (-0.5802348230585671, 'quarter'),\n",
       "  (-0.5647111268545486, 'supportive'),\n",
       "  (-0.48595591317971815, 'vehicular'),\n",
       "  (-0.44393377480685375, 'manslaughter'),\n",
       "  (-0.4086330162657545, 'rumor'),\n",
       "  (-0.36314027217892025, 'fake'),\n",
       "  (-0.354492528481826, 'satirical')],\n",
       " 1: [(0.34390484041484454, 'endorsement'),\n",
       "  (0.38058543909034437, 'coverage'),\n",
       "  (0.38465513992973976, 'additional'),\n",
       "  (0.42333127133326015, 'marital'),\n",
       "  (0.4399213354887584, 'smile'),\n",
       "  (0.44953021098771234, 'recent'),\n",
       "  (0.5148917447638748, 'chairman'),\n",
       "  (0.5409455545294579, 'tacit')]}"
      ]
     },
     "execution_count": 23,
     "metadata": {},
     "output_type": "execute_result"
    }
   ],
   "source": [
    "most_informative_feature_for_binary_classification(count_vectorizer, svc_count, n=8)"
   ]
  },
  {
   "cell_type": "code",
   "execution_count": 24,
   "metadata": {},
   "outputs": [
    {
     "data": {
      "text/plain": [
       "{0: [(-0.6405895755507257, 'mint'),\n",
       "  (-0.5802348230585671, 'quarter'),\n",
       "  (-0.5647111268545486, 'supportive'),\n",
       "  (-0.48595591317971815, 'vehicular'),\n",
       "  (-0.44393377480685375, 'manslaughter'),\n",
       "  (-0.4086330162657545, 'rumor'),\n",
       "  (-0.36314027217892025, 'fake'),\n",
       "  (-0.354492528481826, 'satirical')],\n",
       " 1: [(0.34390484041484454, 'endorsement'),\n",
       "  (0.38058543909034437, 'coverage'),\n",
       "  (0.38465513992973976, 'additional'),\n",
       "  (0.42333127133326015, 'marital'),\n",
       "  (0.4399213354887584, 'smile'),\n",
       "  (0.44953021098771234, 'recent'),\n",
       "  (0.5148917447638748, 'chairman'),\n",
       "  (0.5409455545294579, 'tacit')]}"
      ]
     },
     "execution_count": 24,
     "metadata": {},
     "output_type": "execute_result"
    }
   ],
   "source": [
    "most_informative_feature_for_binary_classification(tfidf_vectorizer, svc_count, n=8)"
   ]
  },
  {
   "cell_type": "code",
   "execution_count": null,
   "metadata": {},
   "outputs": [],
   "source": [
    "\n"
   ]
  },
  {
   "cell_type": "code",
   "execution_count": null,
   "metadata": {},
   "outputs": [],
   "source": []
  },
  {
   "cell_type": "code",
   "execution_count": null,
   "metadata": {},
   "outputs": [],
   "source": []
  },
  {
   "cell_type": "code",
   "execution_count": null,
   "metadata": {},
   "outputs": [],
   "source": [
    "def BagOfWords(data):\n",
    "    sentences = []\n",
    "    for index, row in data.iteritems():\n",
    "        sentences.append(LabeledSentence(utils.to_unicode(row).split(), ['Text' + '_%s' % str(index)]))\n",
    "    return sentences"
   ]
  },
  {
   "cell_type": "code",
   "execution_count": null,
   "metadata": {},
   "outputs": [],
   "source": [
    "#Creating lists of words\n",
    "x = BagOfWords(PolitifactData['Description'])\n",
    "y = PolitifactData.Credibility"
   ]
  },
  {
   "cell_type": "code",
   "execution_count": null,
   "metadata": {},
   "outputs": [],
   "source": [
    "vector_dimension = 300"
   ]
  },
  {
   "cell_type": "code",
   "execution_count": null,
   "metadata": {},
   "outputs": [],
   "source": [
    "text_model = Doc2Vec(min_count=1, window=5, vector_size = vector_dimension, sample=1e-4, negative=5, workers=7, epochs=10, seed=1)\n",
    "text_model.build_vocab(x)\n",
    "text_model.train(x, total_examples = text_model.corpus_count, epochs=text_model.iter)"
   ]
  },
  {
   "cell_type": "code",
   "execution_count": null,
   "metadata": {},
   "outputs": [],
   "source": [
    "train_size = int(0.8 * len(x))\n",
    "test_size = len(x) - train_size"
   ]
  },
  {
   "cell_type": "code",
   "execution_count": null,
   "metadata": {},
   "outputs": [],
   "source": [
    "text_train_arrays = np.zeros((train_size, vector_dimension))\n",
    "text_test_arrays = np.zeros((test_size, vector_dimension))\n",
    "train_labels = np.zeros(train_size)\n",
    "test_labels = np.zeros(test_size)"
   ]
  },
  {
   "cell_type": "code",
   "execution_count": null,
   "metadata": {},
   "outputs": [],
   "source": [
    "for i in range(train_size):\n",
    "    text_train_arrays[i] = text_model.docvecs['Text_' + str(i)]\n",
    "    train_labels[i] = y[i]"
   ]
  },
  {
   "cell_type": "code",
   "execution_count": null,
   "metadata": {},
   "outputs": [],
   "source": [
    "j = 0\n",
    "for i in range(train_size:train_size+test_size):\n",
    "    text_test_arrays[j] = text_model.docvecs['Text_' + str(i)]\n",
    "    test_labels[j] = y[i]\n",
    "    j = j + 1"
   ]
  },
  {
   "cell_type": "markdown",
   "metadata": {},
   "source": [
    "Building the model"
   ]
  },
  {
   "cell_type": "code",
   "execution_count": null,
   "metadata": {},
   "outputs": [],
   "source": [
    "np.save('./text_train_arrays', text_train_arrays)\n",
    "np.save('./text_test_arrays', text_test_arrays)\n",
    "np.save('./train_labels', train_labels)\n",
    "np.save('./test_labels', test_labels)"
   ]
  },
  {
   "cell_type": "code",
   "execution_count": null,
   "metadata": {},
   "outputs": [],
   "source": [
    "xtr = np.load('./text_train_arrays.npy')\n",
    "xte = np.load('./text_test_arrays.npy')\n",
    "ytr = np.load('./train_labels.npy')\n",
    "yte = np.load('./test_labels.npy')"
   ]
  },
  {
   "cell_type": "code",
   "execution_count": null,
   "metadata": {},
   "outputs": [],
   "source": [
    "# Use the built-in Naive Bayes classifier\n",
    "gnb = GaussianNB()\n",
    "gnb.fit(xtr,ytr)\n",
    "y_pred = gnb.predict(xte)\n",
    "m = yte.shape[0]\n",
    "n = (yte != y_pred).sum()\n",
    "print(\"Accuracy = \" + format((m-n)/m*100, '.2f') + \"%\")   # 72.94%"
   ]
  },
  {
   "cell_type": "code",
   "execution_count": null,
   "metadata": {},
   "outputs": [],
   "source": [
    "# Draw the confusion matrix\n",
    "\n",
    "skplt.plot_confusion_matrix(yte,y_pred)\n",
    "plt.show()"
   ]
  }
 ],
 "metadata": {
  "kernelspec": {
   "display_name": "Python 3",
   "language": "python",
   "name": "python3"
  },
  "language_info": {
   "codemirror_mode": {
    "name": "ipython",
    "version": 3
   },
   "file_extension": ".py",
   "mimetype": "text/x-python",
   "name": "python",
   "nbconvert_exporter": "python",
   "pygments_lexer": "ipython3",
   "version": "3.7.3"
  }
 },
 "nbformat": 4,
 "nbformat_minor": 2
}
